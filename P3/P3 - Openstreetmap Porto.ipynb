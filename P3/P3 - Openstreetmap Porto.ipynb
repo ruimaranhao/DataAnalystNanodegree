{
 "cells": [
  {
   "cell_type": "markdown",
   "metadata": {},
   "source": [
    "# Map Area: Porto, Portugal\n",
    "\n",
    "https://s3.amazonaws.com/metro-extracts.mapzen.com/porto_portugal.osm.bz2"
   ]
  },
  {
   "cell_type": "code",
   "execution_count": 116,
   "metadata": {
    "collapsed": false
   },
   "outputs": [],
   "source": [
    "%matplotlib inline\n",
    "\n",
    "import xml.etree.cElementTree as ET\n",
    "from collections import defaultdict\n",
    "import re\n",
    "import pprint\n",
    "import codecs\n",
    "import json\n",
    "import os\n",
    "from pymongo import MongoClient\n",
    "import matplotlib.pyplot as plt\n",
    "\n",
    "import seaborn as sns\n",
    "sns.set_style(\"whitegrid\")"
   ]
  },
  {
   "cell_type": "code",
   "execution_count": 117,
   "metadata": {
    "collapsed": true
   },
   "outputs": [],
   "source": [
    "OSMFILE = \"porto_portugal.osm\"\n",
    "\n",
    "lower = re.compile(r'^([a-z]|_)*$')\n",
    "lower_colon = re.compile(r'^([a-z]|_)*:([a-z]|_)*$')\n",
    "problemchars = re.compile(r'[=\\+/&<>;\\'\"\\?%#$@\\,\\. \\t\\r\\n]')\n",
    "double_colon = re.compile(r'^([a-z]|_)*:([a-z]|_)*:([a-z]|_)*$')"
   ]
  },
  {
   "cell_type": "code",
   "execution_count": 118,
   "metadata": {
    "collapsed": false
   },
   "outputs": [],
   "source": [
    "street_type_re = re.compile(r'^\\b\\S+\\.?', re.IGNORECASE)\n",
    "\n",
    "changes = {'Rua Dragoes Sandinenses': u'Rua Drag\\xe3es Sandinenses',\n",
    "           'Rua S. Pedro': u'Rua S\\xe3o Pedro'}\n",
    "\n",
    "expected = [\"Rua\", \"Avenida\", \"Alameda\", \"Caminho\", \"Largo\", \"Cais\", \"Campo\", u'Cal\\xe7ada', \"Ciclovia\",\n",
    "            \"Esplanada\", \"Estrada\", \"Ladeira\", \"Lugar\", \"Praceta\", \"Travessa\", \"Via\", \"Viela\", \n",
    "            \"Zona\", \"Mercado\"]\n",
    "\n",
    "# UPDATE THIS VARIABLE           \n",
    "mapping = {\n",
    "    '25': 'Rua 25',\n",
    "    'Av': 'Avenida',\n",
    "    'Av.': 'Avenida',\n",
    "    'Brito': 'Rua Brito',\n",
    "    'Calcada': u'Cal\\xe7ada',\n",
    "    'Costa': 'Rua Costa',\n",
    "    'EN' : 'Estrada Nacional',\n",
    "    'Nacional' : 'Estrada Nacional', \n",
    "    'Nossa' : 'Rua Nossa',\n",
    "    'Padre' : 'Rua Padre',\n",
    "    'Paramos' : 'Rua Paramos',\n",
    "    u'Pra\\xe7a' : 'Praceta',\n",
    "    u'Pra\\xe7eta': 'Praceta',\n",
    "    u'P\\xe1tio' : u'P\\xe1tio',\n",
    "    'R' : 'Rua',\n",
    "    'R.': 'Rua',\n",
    "    'RUA': 'Rua',\n",
    "    'R.S.Pedro': 'Rua S. Pedro',\n",
    "    u'Urbaniza\\xe7\\xe3o': u'Urbaniza\\xe7\\xe3o',\n",
    "    'da': 'Rua da',\n",
    "    'do' : 'Rua do',\n",
    "    'Medas': 'Rua Medas',\n",
    "    'Largo': 'Largo',\n",
    "    'Rua' : 'Rua',\n",
    "    'Avenida': 'Avenida',\n",
    "    'Alameda': 'Alameda',\n",
    "    'Caminho': 'Caminho',\n",
    "    'Cais': 'Cais',\n",
    "    'Campo': 'Campo',\n",
    "    'Ciclovia': 'Ciclovia',\n",
    "    'Esplanada': 'Esplanada',\n",
    "    'Estrada': 'Estrada',\n",
    "    'Ladeira': 'Ladeira',\n",
    "    'Lugar': 'Lugar',\n",
    "    'Praceta' : 'Praceta',\n",
    "    'Travessa': 'Travessa',\n",
    "    'Via': 'Via', \n",
    "    'Viela': 'Vieta',\n",
    "    'Zona' : 'Zona',\n",
    "    'Mercado': 'Mercado',\n",
    "    u'Cal\\xe7ada': u'Cal\\xe7ada'}\n",
    "\n",
    "#pprint.pprint(mapping)"
   ]
  },
  {
   "cell_type": "code",
   "execution_count": 119,
   "metadata": {
    "collapsed": false
   },
   "outputs": [],
   "source": [
    "def audit_street_type(street_types, street_name):\n",
    "    m = street_type_re.search(street_name)\n",
    "    if m:\n",
    "        street_type = m.group()\n",
    "        if street_type not in expected:\n",
    "            street_types[street_type].add(street_name)\n",
    "\n",
    "def is_street_name(elem):\n",
    "    return (elem.attrib['k'] == \"addr:street\")\n",
    "\n",
    "def is_postcode(elem):\n",
    "    return (elem.attrib['k'] == \"addr:postcode\")\n",
    "\n",
    "def audit(osmfile):\n",
    "    osm_file = open(osmfile, \"r\")\n",
    "    street_types = defaultdict(set)\n",
    "    postcodes = set()\n",
    "    for event, elem in ET.iterparse(osm_file, events=(\"start\",)):\n",
    "        if elem.tag == \"node\" or elem.tag == \"way\":\n",
    "            for tag in elem.iter(\"tag\"):\n",
    "                if is_street_name(tag):\n",
    "                    audit_street_type(street_types, tag.attrib['v'])\n",
    "                if is_postcode(tag):\n",
    "                    postcodes.add(tag.attrib['v'])\n",
    "                \n",
    "    elem.clear() \n",
    "    return (street_types, postcodes)\n",
    "\n",
    "def update_name(name, mapping):\n",
    "    '''Update each street name with the replacement ending in the mapping dictionary'''\n",
    "    match = re.search(street_type_re,name)\n",
    "    name = re.sub(street_type_re,mapping[match.group()],name).title()\n",
    "    return name\n",
    "\n",
    "(st_types, pcodes) = audit(OSMFILE)"
   ]
  },
  {
   "cell_type": "code",
   "execution_count": 120,
   "metadata": {
    "collapsed": false
   },
   "outputs": [
    {
     "name": "stdout",
     "output_type": "stream",
     "text": [
      "Number of types: 22\n"
     ]
    }
   ],
   "source": [
    "#pprint.pprint(dict(st_types))\n",
    "#print pcodes\n",
    "\n",
    "print \"Number of types: {}\".format(len(dict(st_types)))"
   ]
  },
  {
   "cell_type": "code",
   "execution_count": 121,
   "metadata": {
    "collapsed": false
   },
   "outputs": [
    {
     "name": "stdout",
     "output_type": "stream",
     "text": [
      "RUA DRAGOES SANDINENSES => Rua Dragoes Sandinenses\n",
      "RUA Central de Gens => Rua Central De Gens\n",
      "RUA CONDE FERREIRA => Rua Conde Ferreira\n",
      "Costa Padrão => Rua Costa Padrão\n",
      "Nacional 1 => Estrada Nacional 1\n",
      "Nacional 1/IC2 => Estrada Nacional 1/Ic2\n",
      "25 Abril => Rua 25 Abril\n",
      "Medas => Rua Medas\n",
      "Av. da Pedra Verde => Avenida Da Pedra Verde\n",
      "Av. 24 => Avenida 24\n",
      "Av. Pedra Verde => Avenida Pedra Verde\n",
      "Av. Principal => Avenida Principal\n",
      "Av. Menéres => Avenida Menéres\n",
      "Paramos => Rua Paramos\n",
      "Praçeta Professor Sampaio => Praceta Professor Sampaio\n",
      "EN 204/5 => Estrada Nacional 204/5\n",
      "Padre Ricardo Neto => Rua Padre Ricardo Neto\n",
      "do Sol => Rua Do Sol\n",
      "da fonte => Rua Da Fonte\n",
      "Praça da Liberdade => Praceta Da Liberdade\n",
      "Praça Vasco da Gama => Praceta Vasco Da Gama\n",
      "Praça do Almada => Praceta Do Almada\n",
      "Praça Mouzinho de Albuquerque => Praceta Mouzinho De Albuquerque\n",
      "Praça Dom Afonso V => Praceta Dom Afonso V\n",
      "Praça dos Poveiros => Praceta Dos Poveiros\n",
      "Praça da Ribeira => Praceta Da Ribeira\n",
      "Praça Coronel Pacheco => Praceta Coronel Pacheco\n",
      "Praça Dona Filipa de Lencastre => Praceta Dona Filipa De Lencastre\n",
      "Praça do Exército Libertador => Praceta Do Exército Libertador\n",
      "Praça de Carlos Alberto => Praceta De Carlos Alberto\n",
      "Praça da Batalha => Praceta Da Batalha\n",
      "Praça Marquês de Pombal => Praceta Marquês De Pombal\n",
      "Praça Manuel Guedes => Praceta Manuel Guedes\n",
      "Praça Dom João I => Praceta Dom João I\n",
      "Praça Cid. Salvador => Praceta Cid. Salvador\n",
      "Praça 5 de Outubro => Praceta 5 De Outubro\n",
      "Praça da República => Praceta Da República\n",
      "Praça General Humberto Delgado => Praceta General Humberto Delgado\n",
      "R Escola Preparatória => Rua Escola Preparatória\n",
      "Calcada da Feira dos Dez => Calçada Da Feira Dos Dez\n",
      "R. Adelino Amaro da Costa => Rua Adelino Amaro Da Costa\n",
      "R. Silva Brinco => Rua Silva Brinco\n",
      "Pátio das Escadas do Monte dos Judeus => Pátio Das Escadas Do Monte Dos Judeus\n",
      "Brito Capelo => Rua Brito Capelo\n",
      "Nossa Senhora do Amparo => Rua Nossa Senhora Do Amparo\n",
      "Av Luís de Camões => Avenida Luís De Camões\n",
      "Urbanização Industrial do Soeiro => Urbanização Industrial Do Soeiro\n",
      "Urbanização Industrial da Carriça => Urbanização Industrial Da Carriça\n",
      "R.S.Pedro de Formariz => Rua S. Pedro De Formariz\n"
     ]
    }
   ],
   "source": [
    "for st_type, ways in st_types.iteritems():\n",
    "    #print \"'{}': '{}'\".format(st_type.encode('utf-8'), st_type.encode('utf-8'))\n",
    "    for name in ways:\n",
    "        better_name = update_name(name, mapping)\n",
    "        print name, \"=>\", better_name"
   ]
  },
  {
   "cell_type": "code",
   "execution_count": 122,
   "metadata": {
    "collapsed": false
   },
   "outputs": [],
   "source": [
    "def shape_element(element):\n",
    "    \"\"\"Takes a top level element or tag such as way, node, etc and iterates through each element\n",
    "    and 2nd level tag (if applicable). Returns one cleaned\n",
    "    node (could be a 'way' as well) which is a dictionary of all the fields later \n",
    "    to be converted to a JSON document.    \n",
    "    \"\"\"\n",
    "    if element.tag == \"node\" or element.tag == \"way\":\n",
    "        node = {} \n",
    "        #1st level tags\n",
    "        node['type'] = element.tag          \n",
    "        for attrName, attrValue in element.attrib.items(): #iterate through each 1st level attr of 'node' or 'way'\n",
    "            if attrName == \"lat\":\n",
    "                if 'pos' not in node.keys():\n",
    "                    node['pos']= [float(1),float(1)]\n",
    "                node['pos'][0] = float(attrValue)\n",
    "                continue\n",
    "            if attrName == \"lon\":\n",
    "                if 'pos' not in node.keys():\n",
    "                    node['pos']= [float(1),float(1)]\n",
    "                node['pos'][1] = float(attrValue)\n",
    "                continue\n",
    "            if attrName == \"\" or attrValue == \"\": #avoid importing any blank keys or values\n",
    "                continue\n",
    "            if attrName == 'id': #id is a first level attribute\n",
    "                node['_id'] = attrValue #doing this ensures this _id replaces ObjectId in mongoDB when importing\n",
    "                continue\n",
    "            node[attrName] = attrValue\n",
    "            \n",
    "        #2nd level tags\n",
    "        ndtags = element.findall(\"./*\")\n",
    "        for ndtag in ndtags: #iterate through each 2nd level tag\n",
    "            kvalue, vvalue, refvalue = ['','','']\n",
    "            for aName, aValue in ndtag.attrib.items():  \n",
    "                if aName == \"k\":\n",
    "                    kvalue = aValue\n",
    "                if aName == \"v\":\n",
    "                    vvalue = aValue\n",
    "                if aName == \"ref\":\n",
    "                    refvalue = aValue\n",
    "            if kvalue == 'type': \n",
    "                continue\n",
    "            dc,pc,lc = [double_colon.search(kvalue),problemchars.search(kvalue),lower_colon.search(kvalue)]\n",
    "        \n",
    "        #if second level tag \"k\" value contains problematic characters, it should be ignored\n",
    "            if vvalue in changes: \n",
    "                vvalue = changes[vvalue]\n",
    "            if kvalue.startswith(\"addr:\"):\n",
    "                if kvalue == \"addr:street\": \n",
    "                    vvalue = update_name(vvalue, mapping)         \n",
    "                if 'address' not in node.keys():              \n",
    "                    node['address'] = {}\n",
    "                node['address'][kvalue.split(\"addr:\")[1]] = vvalue          \n",
    "                continue\n",
    "            if lc:  \n",
    "                kvalue = re.sub(\":\",\" \",kvalue) #replace the colon with an space\n",
    "                node[kvalue] = vvalue\n",
    "                continue\n",
    "            if kvalue.startswith(\"geobase:\"):             \n",
    "                kvalue = kvalue.split(\"geobase:\")[1] \n",
    "                node[kvalue] = vvalue\n",
    "                continue                \n",
    "            if kvalue == \"\" or vvalue == \"\": #avoid blank fields and values\n",
    "                continue\n",
    "            if element.tag == \"way\" and refvalue != \"\" : \n",
    "                if \"node_refs\" not in node.keys():\n",
    "                    node['node_refs'] = []\n",
    "                node[\"node_refs\"].append(refvalue)\n",
    "            node[kvalue] = vvalue\n",
    "        return node\n",
    "    else:\n",
    "        return None"
   ]
  },
  {
   "cell_type": "code",
   "execution_count": 123,
   "metadata": {
    "collapsed": false
   },
   "outputs": [
    {
     "name": "stdout",
     "output_type": "stream",
     "text": [
      "1965653\n"
     ]
    }
   ],
   "source": [
    "def process_map(file_in, pretty = False):    \n",
    "    # You do not need to change this file\n",
    "    file_out = \"{0}.json\".format(file_in)\n",
    "    data = []\n",
    "    counter = 0 #added counter to show status when creating json file\n",
    "    with codecs.open(file_out, \"w\") as fo:        \n",
    "        for _, element in ET.iterparse(file_in):\n",
    "            el = shape_element(element)\n",
    "            counter += 1\n",
    "            if el:\n",
    "                data.append(el)\n",
    "                if pretty:\n",
    "                    fo.write(json.dumps(el, indent=2)+\"\\n\")\n",
    "                else:\n",
    "                    fo.write(json.dumps(el) + \"\\n\")\n",
    "    print counter\n",
    "    return data\n",
    "      \n",
    "data = process_map(OSMFILE, False)"
   ]
  },
  {
   "cell_type": "markdown",
   "metadata": {
    "collapsed": true
   },
   "source": [
    "#### Insert into Mongodb"
   ]
  },
  {
   "cell_type": "code",
   "execution_count": 126,
   "metadata": {
    "collapsed": false
   },
   "outputs": [],
   "source": [
    "client = MongoClient('mongodb://localhost:27017/')\n",
    "db = client.p3"
   ]
  },
  {
   "cell_type": "code",
   "execution_count": 128,
   "metadata": {
    "collapsed": false
   },
   "outputs": [
    {
     "data": {
      "text/plain": [
       "<pymongo.results.InsertManyResult at 0x12a24adc0>"
      ]
     },
     "execution_count": 128,
     "metadata": {},
     "output_type": "execute_result"
    }
   ],
   "source": [
    "db.porto.insert_many(data)"
   ]
  },
  {
   "cell_type": "code",
   "execution_count": 129,
   "metadata": {
    "collapsed": false
   },
   "outputs": [
    {
     "data": {
      "text/plain": [
       "<pymongo.cursor.Cursor at 0x1f8815a10>"
      ]
     },
     "execution_count": 129,
     "metadata": {},
     "output_type": "execute_result"
    }
   ],
   "source": [
    "db.porto.find()"
   ]
  },
  {
   "cell_type": "markdown",
   "metadata": {},
   "source": [
    "## Problems encountered in the map"
   ]
  },
  {
   "cell_type": "markdown",
   "metadata": {},
   "source": [
    "The Porto map has a main problem:\n",
    "\n",
    "- Over-abbreviated street names (“R.”)\n",
    "- Inconsistency due to the Portuguese language (for instance, c vs ç). See the changes in the variable 'changes' of the python code.\n",
    "\n",
    "I have not found any problem with postal codes. "
   ]
  },
  {
   "cell_type": "markdown",
   "metadata": {},
   "source": [
    "## Data Overview"
   ]
  },
  {
   "cell_type": "code",
   "execution_count": 130,
   "metadata": {
    "collapsed": false
   },
   "outputs": [
    {
     "name": "stdout",
     "output_type": "stream",
     "text": [
      ">>> File Sizes <<<\n",
      "porto_portugal.osm      ... 143MB\n",
      "porto_portugal.osm.json ... 141MB\n",
      "\n",
      "\n",
      ">>> Number of Documents <<<\n",
      "778496\n",
      "\n",
      "\n",
      ">>> Number of Nodes <<<\n",
      "675233\n",
      "\n",
      "\n",
      ">>> Number of Ways <<<\n",
      "103263\n"
     ]
    }
   ],
   "source": [
    "file_out = \"{0}.json\".format(OSMFILE)\n",
    "print \">>> File Sizes <<<\"\n",
    "print \"porto_portugal.osm      ... {}MB\".format(os.path.getsize(OSMFILE) >> 20)\n",
    "print \"porto_portugal.osm.json ... {}MB\".format(os.path.getsize(file_out) >> 20)\n",
    "\n",
    "print \"\\n\\n>>> Number of Documents <<<\"\n",
    "print db.porto.count()\n",
    "\n",
    "print \"\\n\\n>>> Number of Nodes <<<\"\n",
    "print db.porto.find({\"type\":\"node\"}).count()\n",
    "\n",
    "print \"\\n\\n>>> Number of Ways <<<\"\n",
    "print db.porto.find({\"type\":\"way\"}).count()"
   ]
  },
  {
   "cell_type": "code",
   "execution_count": 131,
   "metadata": {
    "collapsed": false
   },
   "outputs": [
    {
     "name": "stdout",
     "output_type": "stream",
     "text": [
      "\n",
      "\n",
      ">>> Number of Unique Users <<<\n",
      "895\n"
     ]
    }
   ],
   "source": [
    "print \"\\n\\n>>> Number of Unique Users <<<\"\n",
    "print len(db.porto.distinct(\"user\"))"
   ]
  },
  {
   "cell_type": "markdown",
   "metadata": {},
   "source": [
    "#### Top Contributing Users"
   ]
  },
  {
   "cell_type": "code",
   "execution_count": 132,
   "metadata": {
    "collapsed": false
   },
   "outputs": [
    {
     "data": {
      "image/png": "[encoded data removed]",
      "text/plain": [
       "<matplotlib.figure.Figure at 0x15890c2d0>"
      ]
     },
     "metadata": {},
     "output_type": "display_data"
    }
   ],
   "source": [
    "r = db.porto.aggregate( [\n",
    "        { \"$group\":\n",
    "             {\"_id\":\"$user\", \n",
    "              \"count\": { \"$sum\":1 }\n",
    "             }\n",
    "        }, \n",
    "        { \"$sort\": {\"count\": -1 }\n",
    "        },\n",
    "        { \"$limit\": 30 }\n",
    "    ])\n",
    "\n",
    "lres = list(r)\n",
    "xs = [x['_id'] for x in lres]\n",
    "ys = [x['count'] for x in lres]\n",
    "\n",
    "plt.bar(range(len(xs)), ys, align='center')\n",
    "plt.xticks(range(len(xs)), xs)\n",
    "plt.setp(plt.xticks()[1], rotation=90)\n",
    "\n",
    "plt.show()"
   ]
  },
  {
   "cell_type": "markdown",
   "metadata": {},
   "source": [
    "#### Number of users appearing only once (having 1 post)"
   ]
  },
  {
   "cell_type": "code",
   "execution_count": 133,
   "metadata": {
    "collapsed": false
   },
   "outputs": [
    {
     "name": "stdout",
     "output_type": "stream",
     "text": [
      "Users contributing only once: 130\n",
      "Percentage of users: (14.46%)\n"
     ]
    }
   ],
   "source": [
    "rr = db.porto.aggregate( [\n",
    "        {\"$group\": \n",
    "             {\"_id\": \"$user\", \n",
    "              \"count\": { \"$sum\":1 }\n",
    "             }\n",
    "        }, \n",
    "        {\"$group\":\n",
    "             {\"_id\":\"$count\", \n",
    "              \"num_users\":{\"$sum\":1}\n",
    "             }\n",
    "        }, \n",
    "        {\"$sort\":{\"_id\":1}\n",
    "        }, \n",
    "        { \"$limit\":1 } ])\n",
    "\n",
    "users = list(rr)[0]['num_users']\n",
    "print \"Users contributing only once: {}\".format(users)\n",
    "print \"Percentage of users: ({0:.2f}%)\".format((float(users) / len(db.cities.distinct(\"user\")) * 100))"
   ]
  },
  {
   "cell_type": "markdown",
   "metadata": {},
   "source": [
    "## Other ideas about the dataset: exploring the dataset"
   ]
  },
  {
   "cell_type": "code",
   "execution_count": 137,
   "metadata": {
    "collapsed": false
   },
   "outputs": [
    {
     "name": "stdout",
     "output_type": "stream",
     "text": [
      "[{u'count': 1469, u'_id': u'parking'}, {u'count': 764, u'_id': u'cafe'}, {u'count': 610, u'_id': u'restaurant'}, {u'count': 409, u'_id': u'school'}, {u'count': 351, u'_id': u'bench'}, {u'count': 346, u'_id': u'place_of_worship'}, {u'count': 260, u'_id': u'bank'}, {u'count': 251, u'_id': u'fuel'}, {u'count': 232, u'_id': u'pharmacy'}, {u'count': 185, u'_id': u'parking_entrance'}]\n"
     ]
    }
   ],
   "source": [
    "amenities = db.porto.aggregate( [\n",
    "        { \"$match\":\n",
    "             {\"amenity\":{\"$exists\":1}} \n",
    "        },\n",
    "        { \"$group\": \n",
    "             {\"_id\":\"$amenity\",\n",
    "              \"count\": {\"$sum\":1}\n",
    "             }\n",
    "        }, \n",
    "        { \"$sort\": {\"count\": -1 }}, \n",
    "        {\"$limit\":10}])\n",
    "\n",
    "print list(amenities)"
   ]
  },
  {
   "cell_type": "markdown",
   "metadata": {},
   "source": [
    "#### Being in Porto, Portugal, we expect the biggest religion to be Christian, but is this really the case? "
   ]
  },
  {
   "cell_type": "code",
   "execution_count": 142,
   "metadata": {
    "collapsed": false
   },
   "outputs": [
    {
     "data": {
      "image/png": "[encoded data removed]",
      "text/plain": [
       "<matplotlib.figure.Figure at 0x1f883b1d0>"
      ]
     },
     "metadata": {},
     "output_type": "display_data"
    }
   ],
   "source": [
    "religion = db.porto.aggregate( [\n",
    "        {\"$match\":{\"amenity\":{\"$exists\":1}, \"amenity\":\"place_of_worship\"}},\n",
    "        {\"$group\":{\"_id\":\"$religion\", \"count\":{\"$sum\":1}}},\n",
    "        {\"$sort\":{\"count\":-1}}, {\"$limit\":10}])\n",
    "\n",
    "lres = list(religion)\n",
    "xs = [x['_id'] for x in lres]\n",
    "ys = [x['count'] for x in lres]\n",
    "\n",
    "plt.bar(range(len(xs)), ys, align='center')\n",
    "plt.xticks(range(len(xs)), xs)\n",
    "plt.setp(plt.xticks()[1], rotation=90)\n",
    "\n",
    "plt.show()"
   ]
  },
  {
   "cell_type": "markdown",
   "metadata": {},
   "source": [
    "Came as a surprise only two listed religions, and a few None. This suggests that the data may is incomplete. "
   ]
  },
  {
   "cell_type": "markdown",
   "metadata": {},
   "source": [
    "#### What about cuisine?"
   ]
  },
  {
   "cell_type": "code",
   "execution_count": 146,
   "metadata": {
    "collapsed": false
   },
   "outputs": [
    {
     "data": {
      "image/png": "[encoded data removed]",
      "text/plain": [
       "<matplotlib.figure.Figure at 0x1f45edf10>"
      ]
     },
     "metadata": {},
     "output_type": "display_data"
    }
   ],
   "source": [
    "cuisine = db.porto.aggregate([{\"$match\":{\"amenity\":{\"$exists\":1}, \"amenity\":\"restaurant\"}}, \n",
    "                   {\"$group\":{\"_id\":\"$cuisine\", \"count\":{\"$sum\":1}}},        \n",
    "                   {\"$sort\":{\"count\":-1}}, {\"$limit\":10}])\n",
    "\n",
    "lres = list(cuisine)\n",
    "xs = [x['_id'] for x in lres]\n",
    "ys = [x['count'] for x in lres]\n",
    "\n",
    "plt.bar(range(len(xs)), ys, align='center')\n",
    "plt.xticks(range(len(xs)), xs)\n",
    "plt.setp(plt.xticks()[1], rotation=90)\n",
    "\n",
    "plt.show()"
   ]
  },
  {
   "cell_type": "markdown",
   "metadata": {},
   "source": [
    "The high number of Nones suggests that the data is incomplete."
   ]
  },
  {
   "cell_type": "markdown",
   "metadata": {},
   "source": [
    "## Conclusions"
   ]
  },
  {
   "cell_type": "markdown",
   "metadata": {},
   "source": [
    "After this review of the data it’s obvious that the Porto area is incomplete, despite the little problems with the data. "
   ]
  },
  {
   "cell_type": "code",
   "execution_count": null,
   "metadata": {
    "collapsed": true
   },
   "outputs": [],
   "source": []
  }
 ],
 "metadata": {
  "kernelspec": {
   "display_name": "Python 2",
   "language": "python",
   "name": "python2"
  },
  "language_info": {
   "codemirror_mode": {
    "name": "ipython",
    "version": 2
   },
   "file_extension": ".py",
   "mimetype": "text/x-python",
   "name": "python",
   "nbconvert_exporter": "python",
   "pygments_lexer": "ipython2",
   "version": "2.7.10"
  }
 },
 "nbformat": 4,
 "nbformat_minor": 0
}
