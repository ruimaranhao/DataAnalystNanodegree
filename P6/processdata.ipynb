{
 "cells": [
  {
   "cell_type": "code",
   "execution_count": 30,
   "metadata": {
    "collapsed": true
   },
   "outputs": [],
   "source": [
    "import pandas as pd\n",
    "import numpy as np\n",
    "import pandasql\n"
   ]
  },
  {
   "cell_type": "code",
   "execution_count": 31,
   "metadata": {
    "collapsed": false
   },
   "outputs": [],
   "source": [
    "df = pd.read_csv(\"data/2008.csv\")"
   ]
  },
  {
   "cell_type": "raw",
   "metadata": {},
   "source": [
    "Variable descriptions\n",
    "Name\tDescription\n",
    "1\tYear\t1987-2008\n",
    "2\tMonth\t1-12\n",
    "3\tDayofMonth\t1-31\n",
    "4\tDayOfWeek\t1 (Monday) - 7 (Sunday)\n",
    "5\tDepTime\tactual departure time (local, hhmm)\n",
    "6\tCRSDepTime\tscheduled departure time (local, hhmm)\n",
    "7\tArrTime\tactual arrival time (local, hhmm)\n",
    "8\tCRSArrTime\tscheduled arrival time (local, hhmm)\n",
    "9\tUniqueCarrier\tunique carrier code\n",
    "10\tFlightNum\tflight number\n",
    "11\tTailNum\tplane tail number\n",
    "12\tActualElapsedTime\tin minutes\n",
    "13\tCRSElapsedTime\tin minutes\n",
    "14\tAirTime\tin minutes\n",
    "15\tArrDelay\tarrival delay, in minutes\n",
    "16\tDepDelay\tdeparture delay, in minutes\n",
    "17\tOrigin\torigin IATA airport code\n",
    "18\tDest\tdestination IATA airport code\n",
    "19\tDistance\tin miles\n",
    "20\tTaxiIn\ttaxi in time, in minutes\n",
    "21\tTaxiOut\ttaxi out time in minutes\n",
    "22\tCancelled\twas the flight cancelled?\n",
    "23\tCancellationCode\treason for cancellation (A = carrier, B = weather, C = NAS, D = security)\n",
    "24\tDiverted\t1 = yes, 0 = no\n",
    "25\tCarrierDelay\tin minutes\n",
    "26\tWeatherDelay\tin minutes\n",
    "27\tNASDelay\tin minutes\n",
    "28\tSecurityDelay\tin minutes\n",
    "29\tLateAircraftDelay\tin minutes"
   ]
  },
  {
   "cell_type": "code",
   "execution_count": 32,
   "metadata": {
    "collapsed": false
   },
   "outputs": [
    {
     "data": {
      "text/plain": [
       "array([ 1,  2,  3,  4,  5,  6,  7,  8,  9, 10, 11, 12, 13, 14, 15, 16, 17,\n",
       "       18, 19, 20, 21, 22, 23, 24, 25, 26, 27, 28, 29, 30, 31])"
      ]
     },
     "execution_count": 32,
     "metadata": {},
     "output_type": "execute_result"
    }
   ],
   "source": [
    "np.sort(df['DayofMonth'].unique())"
   ]
  },
  {
   "cell_type": "code",
   "execution_count": 33,
   "metadata": {
    "collapsed": false
   },
   "outputs": [
    {
     "data": {
      "text/plain": [
       "657    American Eagle Airlines\n",
       "Name: flight, dtype: object"
      ]
     },
     "execution_count": 33,
     "metadata": {},
     "output_type": "execute_result"
    }
   ],
   "source": [
    "dfa = pd.read_csv(\"data/airline_codes.csv\")\n",
    "dfa[dfa.code == 'MQ']['flight']"
   ]
  },
  {
   "cell_type": "code",
   "execution_count": 34,
   "metadata": {
    "collapsed": false
   },
   "outputs": [
    {
     "data": {
      "text/html": [
       "<div>\n",
       "<table border=\"1\" class=\"dataframe\">\n",
       "  <thead>\n",
       "    <tr style=\"text-align: right;\">\n",
       "      <th></th>\n",
       "      <th>Year</th>\n",
       "      <th>Month</th>\n",
       "      <th>DayofMonth</th>\n",
       "      <th>DayOfWeek</th>\n",
       "      <th>DepTime</th>\n",
       "      <th>CRSDepTime</th>\n",
       "      <th>ArrTime</th>\n",
       "      <th>CRSArrTime</th>\n",
       "      <th>UniqueCarrier</th>\n",
       "      <th>FlightNum</th>\n",
       "      <th>...</th>\n",
       "      <th>TaxiIn</th>\n",
       "      <th>TaxiOut</th>\n",
       "      <th>Cancelled</th>\n",
       "      <th>CancellationCode</th>\n",
       "      <th>Diverted</th>\n",
       "      <th>CarrierDelay</th>\n",
       "      <th>WeatherDelay</th>\n",
       "      <th>NASDelay</th>\n",
       "      <th>SecurityDelay</th>\n",
       "      <th>LateAircraftDelay</th>\n",
       "    </tr>\n",
       "  </thead>\n",
       "  <tbody>\n",
       "    <tr>\n",
       "      <th>0</th>\n",
       "      <td>2008</td>\n",
       "      <td>Jan-08</td>\n",
       "      <td>3</td>\n",
       "      <td>4</td>\n",
       "      <td>2003</td>\n",
       "      <td>1955</td>\n",
       "      <td>2211</td>\n",
       "      <td>2225</td>\n",
       "      <td>WN</td>\n",
       "      <td>335</td>\n",
       "      <td>...</td>\n",
       "      <td>4</td>\n",
       "      <td>8</td>\n",
       "      <td>0</td>\n",
       "      <td>NaN</td>\n",
       "      <td>0</td>\n",
       "      <td>NaN</td>\n",
       "      <td>NaN</td>\n",
       "      <td>NaN</td>\n",
       "      <td>NaN</td>\n",
       "      <td>NaN</td>\n",
       "    </tr>\n",
       "    <tr>\n",
       "      <th>403840</th>\n",
       "      <td>2008</td>\n",
       "      <td>Jan-08</td>\n",
       "      <td>3</td>\n",
       "      <td>4</td>\n",
       "      <td>1146</td>\n",
       "      <td>1130</td>\n",
       "      <td>1233</td>\n",
       "      <td>1220</td>\n",
       "      <td>MQ</td>\n",
       "      <td>4061</td>\n",
       "      <td>...</td>\n",
       "      <td>3</td>\n",
       "      <td>12</td>\n",
       "      <td>0</td>\n",
       "      <td>NaN</td>\n",
       "      <td>0</td>\n",
       "      <td>NaN</td>\n",
       "      <td>NaN</td>\n",
       "      <td>NaN</td>\n",
       "      <td>NaN</td>\n",
       "      <td>NaN</td>\n",
       "    </tr>\n",
       "    <tr>\n",
       "      <th>403841</th>\n",
       "      <td>2008</td>\n",
       "      <td>Jan-08</td>\n",
       "      <td>4</td>\n",
       "      <td>5</td>\n",
       "      <td>1152</td>\n",
       "      <td>1130</td>\n",
       "      <td>1250</td>\n",
       "      <td>1220</td>\n",
       "      <td>MQ</td>\n",
       "      <td>4061</td>\n",
       "      <td>...</td>\n",
       "      <td>2</td>\n",
       "      <td>26</td>\n",
       "      <td>0</td>\n",
       "      <td>NaN</td>\n",
       "      <td>0</td>\n",
       "      <td>22</td>\n",
       "      <td>0</td>\n",
       "      <td>8</td>\n",
       "      <td>0</td>\n",
       "      <td>0</td>\n",
       "    </tr>\n",
       "    <tr>\n",
       "      <th>403842</th>\n",
       "      <td>2008</td>\n",
       "      <td>Jan-08</td>\n",
       "      <td>5</td>\n",
       "      <td>6</td>\n",
       "      <td>1132</td>\n",
       "      <td>1130</td>\n",
       "      <td>1243</td>\n",
       "      <td>1220</td>\n",
       "      <td>MQ</td>\n",
       "      <td>4061</td>\n",
       "      <td>...</td>\n",
       "      <td>3</td>\n",
       "      <td>34</td>\n",
       "      <td>0</td>\n",
       "      <td>NaN</td>\n",
       "      <td>0</td>\n",
       "      <td>0</td>\n",
       "      <td>0</td>\n",
       "      <td>23</td>\n",
       "      <td>0</td>\n",
       "      <td>0</td>\n",
       "    </tr>\n",
       "    <tr>\n",
       "      <th>403843</th>\n",
       "      <td>2008</td>\n",
       "      <td>Jan-08</td>\n",
       "      <td>6</td>\n",
       "      <td>7</td>\n",
       "      <td>NaN</td>\n",
       "      <td>1130</td>\n",
       "      <td>NaN</td>\n",
       "      <td>1220</td>\n",
       "      <td>MQ</td>\n",
       "      <td>4061</td>\n",
       "      <td>...</td>\n",
       "      <td>NaN</td>\n",
       "      <td>NaN</td>\n",
       "      <td>1</td>\n",
       "      <td>B</td>\n",
       "      <td>0</td>\n",
       "      <td>NaN</td>\n",
       "      <td>NaN</td>\n",
       "      <td>NaN</td>\n",
       "      <td>NaN</td>\n",
       "      <td>NaN</td>\n",
       "    </tr>\n",
       "  </tbody>\n",
       "</table>\n",
       "<p>5 rows × 29 columns</p>\n",
       "</div>"
      ],
      "text/plain": [
       "        Year   Month  DayofMonth  DayOfWeek  DepTime  CRSDepTime  ArrTime  \\\n",
       "0       2008  Jan-08           3          4     2003        1955     2211   \n",
       "403840  2008  Jan-08           3          4     1146        1130     1233   \n",
       "403841  2008  Jan-08           4          5     1152        1130     1250   \n",
       "403842  2008  Jan-08           5          6     1132        1130     1243   \n",
       "403843  2008  Jan-08           6          7      NaN        1130      NaN   \n",
       "\n",
       "        CRSArrTime UniqueCarrier  FlightNum        ...         TaxiIn  \\\n",
       "0             2225            WN        335        ...              4   \n",
       "403840        1220            MQ       4061        ...              3   \n",
       "403841        1220            MQ       4061        ...              2   \n",
       "403842        1220            MQ       4061        ...              3   \n",
       "403843        1220            MQ       4061        ...            NaN   \n",
       "\n",
       "        TaxiOut  Cancelled  CancellationCode  Diverted  CarrierDelay  \\\n",
       "0             8          0               NaN         0           NaN   \n",
       "403840       12          0               NaN         0           NaN   \n",
       "403841       26          0               NaN         0            22   \n",
       "403842       34          0               NaN         0             0   \n",
       "403843      NaN          1                 B         0           NaN   \n",
       "\n",
       "       WeatherDelay NASDelay  SecurityDelay  LateAircraftDelay  \n",
       "0               NaN      NaN            NaN                NaN  \n",
       "403840          NaN      NaN            NaN                NaN  \n",
       "403841            0        8              0                  0  \n",
       "403842            0       23              0                  0  \n",
       "403843          NaN      NaN            NaN                NaN  \n",
       "\n",
       "[5 rows x 29 columns]"
      ]
     },
     "execution_count": 34,
     "metadata": {},
     "output_type": "execute_result"
    }
   ],
   "source": [
    "import datetime\n",
    "\n",
    "df = df.sort(['Month'], ascending=[1])\n",
    "df['Month'] = df['Month'].apply(lambda x: datetime.date(2008, x, 1).strftime('%b-%y'))\n",
    "df.head()"
   ]
  },
  {
   "cell_type": "markdown",
   "metadata": {
    "collapsed": true
   },
   "source": [
    "# Data for Chord"
   ]
  },
  {
   "cell_type": "code",
   "execution_count": 29,
   "metadata": {
    "collapsed": false
   },
   "outputs": [
    {
     "data": {
      "text/html": [
       "<div>\n",
       "<table border=\"1\" class=\"dataframe\">\n",
       "  <thead>\n",
       "    <tr style=\"text-align: right;\">\n",
       "      <th></th>\n",
       "      <th>Origin</th>\n",
       "      <th>Dest</th>\n",
       "      <th>delays</th>\n",
       "    </tr>\n",
       "  </thead>\n",
       "  <tbody>\n",
       "    <tr>\n",
       "      <th>0</th>\n",
       "      <td>ABE</td>\n",
       "      <td>ATL</td>\n",
       "      <td>91.610286</td>\n",
       "    </tr>\n",
       "    <tr>\n",
       "      <th>1</th>\n",
       "      <td>ABE</td>\n",
       "      <td>BHM</td>\n",
       "      <td>0.000000</td>\n",
       "    </tr>\n",
       "    <tr>\n",
       "      <th>2</th>\n",
       "      <td>ABE</td>\n",
       "      <td>CLE</td>\n",
       "      <td>42.970444</td>\n",
       "    </tr>\n",
       "    <tr>\n",
       "      <th>3</th>\n",
       "      <td>ABE</td>\n",
       "      <td>CLT</td>\n",
       "      <td>35.327595</td>\n",
       "    </tr>\n",
       "    <tr>\n",
       "      <th>4</th>\n",
       "      <td>ABE</td>\n",
       "      <td>CVG</td>\n",
       "      <td>38.452412</td>\n",
       "    </tr>\n",
       "  </tbody>\n",
       "</table>\n",
       "</div>"
      ],
      "text/plain": [
       "  Origin Dest     delays\n",
       "0    ABE  ATL  91.610286\n",
       "1    ABE  BHM   0.000000\n",
       "2    ABE  CLE  42.970444\n",
       "3    ABE  CLT  35.327595\n",
       "4    ABE  CVG  38.452412"
      ]
     },
     "execution_count": 29,
     "metadata": {},
     "output_type": "execute_result"
    }
   ],
   "source": [
    "import pandasql\n",
    "\n",
    "delays_sql = \"\"\"\n",
    "    select Origin, \n",
    "           Dest, \n",
    "           (avg(DepDelay) + avg(ArrDelay) + avg(LateAircraftDelay) + \n",
    "            avg(NASDelay) + avg(WeatherDelay) + avg(CarrierDelay)) as delays\n",
    "    from df\n",
    "    group by Origin, Dest\n",
    "    \"\"\"\n",
    "\n",
    "orig_dest_delay = pandasql.sqldf(delays_sql.lower(), locals())\n",
    "\n",
    "orig_dest_delay['delays'] = orig_dest_delay['delays'].fillna(0)\n",
    "\n",
    "#orig_dest_delay = orig_dest_delay.sort(['delays'], ascending=0)\n",
    "orig_dest_delay.head()"
   ]
  },
  {
   "cell_type": "code",
   "execution_count": 101,
   "metadata": {
    "collapsed": false
   },
   "outputs": [
    {
     "data": {
      "text/plain": [
       "array(['IAD', 'IND', 'ISP', 'JAN', 'JAX', 'LAS', 'LAX', 'LBB', 'LIT',\n",
       "       'MAF', 'MCI', 'MCO', 'MDW', 'MHT', 'MSY', 'OAK', 'OKC', 'OMA',\n",
       "       'ONT', 'ORF', 'PBI', 'PDX', 'PHL', 'PHX', 'PIT', 'PVD', 'RDU',\n",
       "       'RNO', 'RSW', 'SAN', 'SAT', 'SDF', 'SEA', 'SFO', 'SJC', 'SLC',\n",
       "       'SMF', 'SNA', 'STL', 'TPA', 'TUL', 'TUS', 'ABQ', 'ALB', 'AMA',\n",
       "       'AUS', 'BDL', 'BHM', 'BNA', 'BOI', 'BUF', 'BUR', 'BWI', 'CLE',\n",
       "       'CMH', 'CRP', 'DAL', 'DEN', 'DTW', 'ELP', 'FLL', 'GEG', 'HOU',\n",
       "       'HRL', 'ROC', 'DAY', 'ORD', 'EWR', 'SYR', 'IAH', 'LFT', 'MKE',\n",
       "       'CHS', 'LCH', 'CLT', 'BTR', 'CRW', 'FAT', 'COS', 'MRY', 'LGB',\n",
       "       'BFL', 'EUG', 'ICT', 'MEM', 'LGA', 'DCA', 'BTV', 'GRK', 'BRO',\n",
       "       'TYS', 'DSM', 'BPT', 'GPT', 'GRR', 'PWM', 'MSP', 'RIC', 'CVG',\n",
       "       'SAV', 'SRQ', 'GSO', 'CHA', 'XNA', 'GSP', 'LEX', 'MFE', 'ABE',\n",
       "       'MLU', 'MOB', 'LRD', 'SHV', 'TLH', 'CAE', 'AEX', 'ATL', 'DFW',\n",
       "       'BGR', 'AVL', 'BOS', 'MSN', 'HSV', 'MGM', 'MYR', 'VPS', 'CLL',\n",
       "       'PNS', 'MTJ', 'DAB', 'PSP', 'ASE', 'ATW', 'AVP', 'BMI', 'CAK',\n",
       "       'CID', 'CLD', 'COD', 'CPR', 'CWA', 'DRO', 'EGE', 'FLG', 'FSD',\n",
       "       'FWA', 'GJT', 'GRB', 'HDN', 'HNL', 'ILM', 'ITO', 'JFK', 'KOA',\n",
       "       'LAN', 'LIH', 'MBS', 'MDT', 'MFR', 'OGG', 'RAP', 'ROA', 'SBA',\n",
       "       'SBN', 'SBP', 'SPI', 'TEX', 'YUM', 'TVC', 'HPN', 'MIA', 'MLB',\n",
       "       'SGF', 'TRI', 'ACY', 'TWF', 'SUN', 'PIH', 'EKO', 'SGU', 'PSC',\n",
       "       'BTM', 'SLE', 'IDA', 'HLN', 'FCA', 'MSO', 'GTF', 'LWS', 'YKM',\n",
       "       'BZN', 'BIL', 'RDM', 'FAR', 'JAC', 'IYK', 'SMX', 'ACV', 'OXR',\n",
       "       'RDD', 'CEC', 'MOD', 'CIC', 'IPL', 'PIA', 'MLI', 'GUC', 'AZO',\n",
       "       'LNK', 'PMD', 'BIS', 'RFD', 'BLI', 'CDC', 'SJU', 'STT', 'ANC',\n",
       "       'STX', 'PHF', 'DHN', 'PFN', 'TOL', 'AGS', 'FAY', 'HHH', 'EVV',\n",
       "       'GNV', 'ABY', 'FNT', 'OAJ', 'BQK', 'SWF', 'EWN', 'MEI', 'GTR',\n",
       "       'LYH', 'FSM', 'EYW', 'VLD', 'CSG', 'MCN', 'CHO', 'TUP', 'FLO',\n",
       "       'SCE', 'TYR', 'LAW', 'SPS', 'ABI', 'GGG', 'ACT', 'SJT', 'TXK',\n",
       "       'CMI', 'ROW', 'RST', 'MQT', 'LSE', 'DBQ', 'GFK', 'MOT', 'DLH',\n",
       "       'SUX', 'PLN', 'BGM', 'ERI', 'ALO', 'CMX', 'RHI', 'ELM', 'JNU',\n",
       "       'KTN', 'ADQ', 'FAI', 'SIT', 'PSG', 'WRG', 'SCC', 'BET', 'CDV',\n",
       "       'OME', 'YAK', 'BRW', 'OTZ', 'ADK', 'BQN', 'PSE', 'GCC', 'RKS',\n",
       "       'MKG', 'DLG', 'AKN', 'LWB', 'ACK', 'WYS', 'BJI', 'INL', 'GST',\n",
       "       'PUB', 'LMT', 'OTH', 'ITH', 'HTS', 'PIR'], dtype=object)"
      ]
     },
     "execution_count": 101,
     "metadata": {},
     "output_type": "execute_result"
    }
   ],
   "source": [
    "#https://en.wikipedia.org/wiki/List_of_the_busiest_airports_in_the_United_States\n",
    "#airports = ['ATL', 'LAX', 'ORD', 'DFW', 'JFK', 'DEN', 'SFO',\n",
    "#            'CLT', 'LAS', 'PHX', 'IAH', 'MIA', 'SEA', 'EWR',\n",
    "#            'MCO', 'MSP', 'DTW', 'BOS', 'PHL', 'LGA']\n",
    "\n",
    "airports = df['Origin'].unique()\n",
    "airports"
   ]
  },
  {
   "cell_type": "code",
   "execution_count": 102,
   "metadata": {
    "collapsed": false
   },
   "outputs": [
    {
     "data": {
      "text/plain": [
       "303"
      ]
     },
     "execution_count": 102,
     "metadata": {},
     "output_type": "execute_result"
    }
   ],
   "source": [
    "import random\n",
    "import pprint\n",
    "\n",
    "airports = map(lambda x: (x, \"#%06x\" % random.randint(0, 0xFFFFFF)), airports)\n",
    "\n",
    "with open('airliners.csv', 'w') as a:\n",
    "    a.write(\"name,color\\n\")\n",
    "    count = 0\n",
    "    for i in airports:\n",
    "        a.write(\"{}, {}\\n\".format(i[0], i[1]))\n",
    "        count += 1\n",
    "        \n",
    "len(airports)"
   ]
  },
  {
   "cell_type": "code",
   "execution_count": null,
   "metadata": {
    "collapsed": false
   },
   "outputs": [],
   "source": [
    "from pandas import *\n",
    "\n",
    "matrix = []\n",
    "for o in airports:\n",
    "    ll = []\n",
    "    for d in airports:\n",
    "        dl = orig_dest_delay[(orig_dest_delay.Origin == o[0]) & (orig_dest_delay.Dest == d[0])]['delays']\n",
    "        if dl.any():\n",
    "            ll = ll + [dl.mean()]\n",
    "        else:\n",
    "            ll = ll + [0]\n",
    "    matrix = matrix + [ll]\n",
    "    \n",
    "DataFrame(matrix)   \n"
   ]
  },
  {
   "cell_type": "markdown",
   "metadata": {},
   "source": [
    "### Cancellations"
   ]
  },
  {
   "cell_type": "code",
   "execution_count": 35,
   "metadata": {
    "collapsed": false
   },
   "outputs": [
    {
     "data": {
      "text/plain": [
       "array(['A', 'B', 'C', 'D', 'E'], dtype=object)"
      ]
     },
     "execution_count": 35,
     "metadata": {},
     "output_type": "execute_result"
    }
   ],
   "source": [
    "df['CancellationCode'] = df['CancellationCode'].fillna('E')\n",
    "np.sort(df['CancellationCode'].unique())"
   ]
  },
  {
   "cell_type": "code",
   "execution_count": 36,
   "metadata": {
    "collapsed": false
   },
   "outputs": [
    {
     "name": "stdout",
     "output_type": "stream",
     "text": [
      "137434\n"
     ]
    },
    {
     "data": {
      "text/html": [
       "<div>\n",
       "<table border=\"1\" class=\"dataframe\">\n",
       "  <thead>\n",
       "    <tr style=\"text-align: right;\">\n",
       "      <th></th>\n",
       "      <th>Month</th>\n",
       "      <th>UniqueCarrier</th>\n",
       "      <th>Distance</th>\n",
       "      <th>Cancelled</th>\n",
       "      <th>CancellationCode</th>\n",
       "    </tr>\n",
       "  </thead>\n",
       "  <tbody>\n",
       "    <tr>\n",
       "      <th>403843</th>\n",
       "      <td>Jan-08</td>\n",
       "      <td>MQ</td>\n",
       "      <td>174</td>\n",
       "      <td>1</td>\n",
       "      <td>B</td>\n",
       "    </tr>\n",
       "    <tr>\n",
       "      <th>403837</th>\n",
       "      <td>Jan-08</td>\n",
       "      <td>MQ</td>\n",
       "      <td>223</td>\n",
       "      <td>1</td>\n",
       "      <td>C</td>\n",
       "    </tr>\n",
       "    <tr>\n",
       "      <th>403828</th>\n",
       "      <td>Jan-08</td>\n",
       "      <td>MQ</td>\n",
       "      <td>223</td>\n",
       "      <td>1</td>\n",
       "      <td>C</td>\n",
       "    </tr>\n",
       "    <tr>\n",
       "      <th>403835</th>\n",
       "      <td>Jan-08</td>\n",
       "      <td>MQ</td>\n",
       "      <td>223</td>\n",
       "      <td>1</td>\n",
       "      <td>C</td>\n",
       "    </tr>\n",
       "    <tr>\n",
       "      <th>403886</th>\n",
       "      <td>Jan-08</td>\n",
       "      <td>MQ</td>\n",
       "      <td>473</td>\n",
       "      <td>1</td>\n",
       "      <td>C</td>\n",
       "    </tr>\n",
       "  </tbody>\n",
       "</table>\n",
       "</div>"
      ],
      "text/plain": [
       "         Month UniqueCarrier  Distance  Cancelled CancellationCode\n",
       "403843  Jan-08            MQ       174          1                B\n",
       "403837  Jan-08            MQ       223          1                C\n",
       "403828  Jan-08            MQ       223          1                C\n",
       "403835  Jan-08            MQ       223          1                C\n",
       "403886  Jan-08            MQ       473          1                C"
      ]
     },
     "execution_count": 36,
     "metadata": {},
     "output_type": "execute_result"
    }
   ],
   "source": [
    "c = df[df.Cancelled == 1][['Month','UniqueCarrier', 'Distance', 'Cancelled', 'CancellationCode']]\n",
    "print len(c)\n",
    "c.head()"
   ]
  },
  {
   "cell_type": "code",
   "execution_count": 39,
   "metadata": {
    "collapsed": false
   },
   "outputs": [
    {
     "name": "stdout",
     "output_type": "stream",
     "text": [
      "230\n"
     ]
    },
    {
     "data": {
      "text/html": [
       "<div>\n",
       "<table border=\"1\" class=\"dataframe\">\n",
       "  <thead>\n",
       "    <tr style=\"text-align: right;\">\n",
       "      <th></th>\n",
       "      <th>Month</th>\n",
       "      <th>UniqueCarrier</th>\n",
       "      <th>Total Flights</th>\n",
       "    </tr>\n",
       "  </thead>\n",
       "  <tbody>\n",
       "    <tr>\n",
       "      <th>0</th>\n",
       "      <td>Apr-08</td>\n",
       "      <td>9E</td>\n",
       "      <td>21969</td>\n",
       "    </tr>\n",
       "    <tr>\n",
       "      <th>1</th>\n",
       "      <td>Apr-08</td>\n",
       "      <td>AA</td>\n",
       "      <td>51470</td>\n",
       "    </tr>\n",
       "    <tr>\n",
       "      <th>2</th>\n",
       "      <td>Apr-08</td>\n",
       "      <td>AS</td>\n",
       "      <td>12517</td>\n",
       "    </tr>\n",
       "    <tr>\n",
       "      <th>3</th>\n",
       "      <td>Apr-08</td>\n",
       "      <td>B6</td>\n",
       "      <td>17141</td>\n",
       "    </tr>\n",
       "    <tr>\n",
       "      <th>4</th>\n",
       "      <td>Apr-08</td>\n",
       "      <td>CO</td>\n",
       "      <td>25983</td>\n",
       "    </tr>\n",
       "  </tbody>\n",
       "</table>\n",
       "</div>"
      ],
      "text/plain": [
       "    Month UniqueCarrier  Total Flights\n",
       "0  Apr-08            9E          21969\n",
       "1  Apr-08            AA          51470\n",
       "2  Apr-08            AS          12517\n",
       "3  Apr-08            B6          17141\n",
       "4  Apr-08            CO          25983"
      ]
     },
     "execution_count": 39,
     "metadata": {},
     "output_type": "execute_result"
    }
   ],
   "source": [
    "dow_sql = \"\"\"\n",
    "    select Month, UniqueCarrier, COUNT(*) as \"Total Flights\"\n",
    "    from df\n",
    "    group by Month, UniqueCarrier\n",
    "    \"\"\"\n",
    "\n",
    "t = pandasql.sqldf(dow_sql, locals())\n",
    "\n",
    "\n",
    "print len(t)\n",
    "t.head()"
   ]
  },
  {
   "cell_type": "code",
   "execution_count": 40,
   "metadata": {
    "collapsed": false
   },
   "outputs": [
    {
     "name": "stdout",
     "output_type": "stream",
     "text": [
      "640\n"
     ]
    },
    {
     "data": {
      "text/html": [
       "<div>\n",
       "<table border=\"1\" class=\"dataframe\">\n",
       "  <thead>\n",
       "    <tr style=\"text-align: right;\">\n",
       "      <th></th>\n",
       "      <th>Month</th>\n",
       "      <th>UniqueCarrier</th>\n",
       "      <th>Distance</th>\n",
       "      <th>Cancelled</th>\n",
       "      <th>CancellationCode</th>\n",
       "    </tr>\n",
       "  </thead>\n",
       "  <tbody>\n",
       "    <tr>\n",
       "      <th>0</th>\n",
       "      <td>Apr-08</td>\n",
       "      <td>9E</td>\n",
       "      <td>479.567775</td>\n",
       "      <td>391</td>\n",
       "      <td>A</td>\n",
       "    </tr>\n",
       "    <tr>\n",
       "      <th>1</th>\n",
       "      <td>Apr-08</td>\n",
       "      <td>9E</td>\n",
       "      <td>465.152542</td>\n",
       "      <td>59</td>\n",
       "      <td>B</td>\n",
       "    </tr>\n",
       "    <tr>\n",
       "      <th>2</th>\n",
       "      <td>Apr-08</td>\n",
       "      <td>9E</td>\n",
       "      <td>443.968750</td>\n",
       "      <td>64</td>\n",
       "      <td>C</td>\n",
       "    </tr>\n",
       "    <tr>\n",
       "      <th>3</th>\n",
       "      <td>Apr-08</td>\n",
       "      <td>AA</td>\n",
       "      <td>900.115530</td>\n",
       "      <td>3696</td>\n",
       "      <td>A</td>\n",
       "    </tr>\n",
       "    <tr>\n",
       "      <th>4</th>\n",
       "      <td>Apr-08</td>\n",
       "      <td>AA</td>\n",
       "      <td>781.068702</td>\n",
       "      <td>131</td>\n",
       "      <td>B</td>\n",
       "    </tr>\n",
       "  </tbody>\n",
       "</table>\n",
       "</div>"
      ],
      "text/plain": [
       "    Month UniqueCarrier    Distance  Cancelled CancellationCode\n",
       "0  Apr-08            9E  479.567775        391                A\n",
       "1  Apr-08            9E  465.152542         59                B\n",
       "2  Apr-08            9E  443.968750         64                C\n",
       "3  Apr-08            AA  900.115530       3696                A\n",
       "4  Apr-08            AA  781.068702        131                B"
      ]
     },
     "execution_count": 40,
     "metadata": {},
     "output_type": "execute_result"
    }
   ],
   "source": [
    "dow_sql = \"\"\"\n",
    "    select Month, UniqueCarrier, avg(Distance) as Distance, SUM(Cancelled) as Cancelled, CancellationCode\n",
    "    from c\n",
    "    group by Month, UniqueCarrier, CancellationCode\n",
    "    \"\"\"\n",
    "\n",
    "d = pandasql.sqldf(dow_sql, locals())\n",
    "\n",
    "print len(d)\n",
    "d.head()"
   ]
  },
  {
   "cell_type": "code",
   "execution_count": 41,
   "metadata": {
    "collapsed": false
   },
   "outputs": [
    {
     "data": {
      "text/html": [
       "<div>\n",
       "<table border=\"1\" class=\"dataframe\">\n",
       "  <thead>\n",
       "    <tr style=\"text-align: right;\">\n",
       "      <th></th>\n",
       "      <th>Month</th>\n",
       "      <th>UniqueCarrier</th>\n",
       "      <th>Distance</th>\n",
       "      <th>Cancelled</th>\n",
       "      <th>CancellationCode</th>\n",
       "      <th>Total Flights</th>\n",
       "    </tr>\n",
       "  </thead>\n",
       "  <tbody>\n",
       "    <tr>\n",
       "      <th>0</th>\n",
       "      <td>Apr-08</td>\n",
       "      <td>9E</td>\n",
       "      <td>479.567775</td>\n",
       "      <td>391</td>\n",
       "      <td>A</td>\n",
       "      <td>21969</td>\n",
       "    </tr>\n",
       "    <tr>\n",
       "      <th>1</th>\n",
       "      <td>Apr-08</td>\n",
       "      <td>9E</td>\n",
       "      <td>465.152542</td>\n",
       "      <td>59</td>\n",
       "      <td>B</td>\n",
       "      <td>21969</td>\n",
       "    </tr>\n",
       "    <tr>\n",
       "      <th>2</th>\n",
       "      <td>Apr-08</td>\n",
       "      <td>9E</td>\n",
       "      <td>443.968750</td>\n",
       "      <td>64</td>\n",
       "      <td>C</td>\n",
       "      <td>21969</td>\n",
       "    </tr>\n",
       "    <tr>\n",
       "      <th>3</th>\n",
       "      <td>Apr-08</td>\n",
       "      <td>AA</td>\n",
       "      <td>900.115530</td>\n",
       "      <td>3696</td>\n",
       "      <td>A</td>\n",
       "      <td>51470</td>\n",
       "    </tr>\n",
       "    <tr>\n",
       "      <th>4</th>\n",
       "      <td>Apr-08</td>\n",
       "      <td>AA</td>\n",
       "      <td>781.068702</td>\n",
       "      <td>131</td>\n",
       "      <td>B</td>\n",
       "      <td>51470</td>\n",
       "    </tr>\n",
       "  </tbody>\n",
       "</table>\n",
       "</div>"
      ],
      "text/plain": [
       "    Month UniqueCarrier    Distance  Cancelled CancellationCode  Total Flights\n",
       "0  Apr-08            9E  479.567775        391                A          21969\n",
       "1  Apr-08            9E  465.152542         59                B          21969\n",
       "2  Apr-08            9E  443.968750         64                C          21969\n",
       "3  Apr-08            AA  900.115530       3696                A          51470\n",
       "4  Apr-08            AA  781.068702        131                B          51470"
      ]
     },
     "execution_count": 41,
     "metadata": {},
     "output_type": "execute_result"
    }
   ],
   "source": [
    "d = d.merge(t, on=['Month','UniqueCarrier'])\n",
    "d.head()"
   ]
  },
  {
   "cell_type": "code",
   "execution_count": 42,
   "metadata": {
    "collapsed": false
   },
   "outputs": [
    {
     "data": {
      "text/html": [
       "<div>\n",
       "<table border=\"1\" class=\"dataframe\">\n",
       "  <thead>\n",
       "    <tr style=\"text-align: right;\">\n",
       "      <th></th>\n",
       "      <th>Month</th>\n",
       "      <th>UniqueCarrier</th>\n",
       "      <th>Distance</th>\n",
       "      <th>Cancelled</th>\n",
       "      <th>CancellationCode</th>\n",
       "      <th>Total Flights</th>\n",
       "      <th>Percentage Cancelled</th>\n",
       "    </tr>\n",
       "  </thead>\n",
       "  <tbody>\n",
       "    <tr>\n",
       "      <th>0</th>\n",
       "      <td>Apr-08</td>\n",
       "      <td>Pinnacle Airlines</td>\n",
       "      <td>479.567775</td>\n",
       "      <td>391</td>\n",
       "      <td>Carrier Delay</td>\n",
       "      <td>21969</td>\n",
       "      <td>0.017798</td>\n",
       "    </tr>\n",
       "    <tr>\n",
       "      <th>1</th>\n",
       "      <td>Apr-08</td>\n",
       "      <td>Pinnacle Airlines</td>\n",
       "      <td>465.152542</td>\n",
       "      <td>59</td>\n",
       "      <td>Weather Delay</td>\n",
       "      <td>21969</td>\n",
       "      <td>0.002686</td>\n",
       "    </tr>\n",
       "    <tr>\n",
       "      <th>2</th>\n",
       "      <td>Apr-08</td>\n",
       "      <td>Pinnacle Airlines</td>\n",
       "      <td>443.968750</td>\n",
       "      <td>64</td>\n",
       "      <td>National Airspace System Delay</td>\n",
       "      <td>21969</td>\n",
       "      <td>0.002913</td>\n",
       "    </tr>\n",
       "    <tr>\n",
       "      <th>3</th>\n",
       "      <td>Apr-08</td>\n",
       "      <td>American Airlines</td>\n",
       "      <td>900.115530</td>\n",
       "      <td>3696</td>\n",
       "      <td>Carrier Delay</td>\n",
       "      <td>51470</td>\n",
       "      <td>0.071809</td>\n",
       "    </tr>\n",
       "    <tr>\n",
       "      <th>4</th>\n",
       "      <td>Apr-08</td>\n",
       "      <td>American Airlines</td>\n",
       "      <td>781.068702</td>\n",
       "      <td>131</td>\n",
       "      <td>Weather Delay</td>\n",
       "      <td>51470</td>\n",
       "      <td>0.002545</td>\n",
       "    </tr>\n",
       "  </tbody>\n",
       "</table>\n",
       "</div>"
      ],
      "text/plain": [
       "    Month      UniqueCarrier    Distance  Cancelled  \\\n",
       "0  Apr-08  Pinnacle Airlines  479.567775        391   \n",
       "1  Apr-08  Pinnacle Airlines  465.152542         59   \n",
       "2  Apr-08  Pinnacle Airlines  443.968750         64   \n",
       "3  Apr-08  American Airlines  900.115530       3696   \n",
       "4  Apr-08  American Airlines  781.068702        131   \n",
       "\n",
       "                 CancellationCode  Total Flights  Percentage Cancelled  \n",
       "0                   Carrier Delay          21969              0.017798  \n",
       "1                   Weather Delay          21969              0.002686  \n",
       "2  National Airspace System Delay          21969              0.002913  \n",
       "3                   Carrier Delay          51470              0.071809  \n",
       "4                   Weather Delay          51470              0.002545  "
      ]
     },
     "execution_count": 42,
     "metadata": {},
     "output_type": "execute_result"
    }
   ],
   "source": [
    "d['CancellationCode'] = d['CancellationCode'].apply(lambda x: \"Carrier Delay\" if x == 'A' else x)\n",
    "d['CancellationCode'] = d['CancellationCode'].apply(lambda x: \"Weather Delay\" if x == 'B' else x)\n",
    "d['CancellationCode'] = d['CancellationCode'].apply(lambda x: \"National Airspace System Delay\" if x == 'C' else x)\n",
    "d['CancellationCode'] = d['CancellationCode'].apply(lambda x: \"Security Delay\" if x == 'D' else x)\n",
    "\n",
    "dic = dfa[['code', 'flight']].set_index('code').to_dict()\n",
    "d['UniqueCarrier'] = d['UniqueCarrier'].apply(lambda x: dic['flight'][x])\n",
    "\n",
    "d['Percentage Cancelled'] = d['Cancelled'] / d['Total Flights']\n",
    "\n",
    "#A = carrier, B = weather, C = NAS, D = security\n",
    "d.head()"
   ]
  },
  {
   "cell_type": "code",
   "execution_count": 43,
   "metadata": {
    "collapsed": true
   },
   "outputs": [],
   "source": [
    "d.to_csv('data/2008cancelled.csv')"
   ]
  },
  {
   "cell_type": "code",
   "execution_count": 44,
   "metadata": {
    "collapsed": false
   },
   "outputs": [
    {
     "data": {
      "text/plain": [
       "20"
      ]
     },
     "execution_count": 44,
     "metadata": {},
     "output_type": "execute_result"
    }
   ],
   "source": [
    "len(d['UniqueCarrier'].unique())"
   ]
  },
  {
   "cell_type": "code",
   "execution_count": 45,
   "metadata": {
    "collapsed": false
   },
   "outputs": [
    {
     "data": {
      "text/html": [
       "<div>\n",
       "<table border=\"1\" class=\"dataframe\">\n",
       "  <thead>\n",
       "    <tr style=\"text-align: right;\">\n",
       "      <th></th>\n",
       "      <th>Distance</th>\n",
       "      <th>Cancelled</th>\n",
       "      <th>Total Flights</th>\n",
       "      <th>Percentage Cancelled</th>\n",
       "    </tr>\n",
       "  </thead>\n",
       "  <tbody>\n",
       "    <tr>\n",
       "      <th>count</th>\n",
       "      <td>640.000000</td>\n",
       "      <td>640.000000</td>\n",
       "      <td>640.000000</td>\n",
       "      <td>640.000000</td>\n",
       "    </tr>\n",
       "    <tr>\n",
       "      <th>mean</th>\n",
       "      <td>586.533083</td>\n",
       "      <td>214.740625</td>\n",
       "      <td>32375.995312</td>\n",
       "      <td>0.006822</td>\n",
       "    </tr>\n",
       "    <tr>\n",
       "      <th>std</th>\n",
       "      <td>263.091047</td>\n",
       "      <td>304.645588</td>\n",
       "      <td>20409.612529</td>\n",
       "      <td>0.008962</td>\n",
       "    </tr>\n",
       "    <tr>\n",
       "      <th>min</th>\n",
       "      <td>100.000000</td>\n",
       "      <td>1.000000</td>\n",
       "      <td>3772.000000</td>\n",
       "      <td>0.000021</td>\n",
       "    </tr>\n",
       "    <tr>\n",
       "      <th>25%</th>\n",
       "      <td>403.202254</td>\n",
       "      <td>34.750000</td>\n",
       "      <td>20663.250000</td>\n",
       "      <td>0.001471</td>\n",
       "    </tr>\n",
       "    <tr>\n",
       "      <th>50%</th>\n",
       "      <td>522.073890</td>\n",
       "      <td>108.500000</td>\n",
       "      <td>26162.000000</td>\n",
       "      <td>0.003753</td>\n",
       "    </tr>\n",
       "    <tr>\n",
       "      <th>75%</th>\n",
       "      <td>728.093023</td>\n",
       "      <td>285.000000</td>\n",
       "      <td>39403.000000</td>\n",
       "      <td>0.008465</td>\n",
       "    </tr>\n",
       "    <tr>\n",
       "      <th>max</th>\n",
       "      <td>2664.666667</td>\n",
       "      <td>3696.000000</td>\n",
       "      <td>103649.000000</td>\n",
       "      <td>0.071809</td>\n",
       "    </tr>\n",
       "  </tbody>\n",
       "</table>\n",
       "</div>"
      ],
      "text/plain": [
       "          Distance    Cancelled  Total Flights  Percentage Cancelled\n",
       "count   640.000000   640.000000     640.000000            640.000000\n",
       "mean    586.533083   214.740625   32375.995312              0.006822\n",
       "std     263.091047   304.645588   20409.612529              0.008962\n",
       "min     100.000000     1.000000    3772.000000              0.000021\n",
       "25%     403.202254    34.750000   20663.250000              0.001471\n",
       "50%     522.073890   108.500000   26162.000000              0.003753\n",
       "75%     728.093023   285.000000   39403.000000              0.008465\n",
       "max    2664.666667  3696.000000  103649.000000              0.071809"
      ]
     },
     "execution_count": 45,
     "metadata": {},
     "output_type": "execute_result"
    }
   ],
   "source": [
    "d.describe()"
   ]
  },
  {
   "cell_type": "code",
   "execution_count": null,
   "metadata": {
    "collapsed": true
   },
   "outputs": [],
   "source": []
  }
 ],
 "metadata": {
  "kernelspec": {
   "display_name": "Python 2",
   "language": "python",
   "name": "python2"
  },
  "language_info": {
   "codemirror_mode": {
    "name": "ipython",
    "version": 2
   },
   "file_extension": ".py",
   "mimetype": "text/x-python",
   "name": "python",
   "nbconvert_exporter": "python",
   "pygments_lexer": "ipython2",
   "version": "2.7.10"
  }
 },
 "nbformat": 4,
 "nbformat_minor": 0
}
