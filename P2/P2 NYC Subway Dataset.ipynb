{
 "cells": [
  {
   "cell_type": "code",
   "execution_count": 1,
   "metadata": {
    "collapsed": true
   },
   "outputs": [],
   "source": [
    "%matplotlib inline\n",
    "\n",
    "import matplotlib\n",
    "import numpy as np\n",
    "import matplotlib.pyplot as plt\n",
    "import pandas as pd\n",
    "import seaborn as sns\n",
    "import scipy\n",
    "from scipy import stats\n",
    "import statsmodels.api as sm\n",
    "import statsmodels\n",
    "import math\n",
    "from datetime import datetime\n",
    "from sklearn import linear_model\n",
    "import matplotlib.cm as cm\n",
    "\n",
    "sns.set_style(\"whitegrid\")"
   ]
  },
  {
   "cell_type": "code",
   "execution_count": 2,
   "metadata": {
    "collapsed": false
   },
   "outputs": [
    {
     "name": "stdout",
     "output_type": "stream",
     "text": [
      "Months in dataset: [5]\n"
     ]
    },
    {
     "data": {
      "text/html": [
       "<div>\n",
       "<table border=\"1\" class=\"dataframe\">\n",
       "  <thead>\n",
       "    <tr style=\"text-align: right;\">\n",
       "      <th></th>\n",
       "      <th>Unnamed: 0</th>\n",
       "      <th>UNIT</th>\n",
       "      <th>DATEn</th>\n",
       "      <th>TIMEn</th>\n",
       "      <th>Hour</th>\n",
       "      <th>DESCn</th>\n",
       "      <th>ENTRIESn_hourly</th>\n",
       "      <th>EXITSn_hourly</th>\n",
       "      <th>maxpressurei</th>\n",
       "      <th>maxdewpti</th>\n",
       "      <th>...</th>\n",
       "      <th>meandewpti</th>\n",
       "      <th>meanpressurei</th>\n",
       "      <th>fog</th>\n",
       "      <th>rain</th>\n",
       "      <th>meanwindspdi</th>\n",
       "      <th>mintempi</th>\n",
       "      <th>meantempi</th>\n",
       "      <th>maxtempi</th>\n",
       "      <th>precipi</th>\n",
       "      <th>thunder</th>\n",
       "    </tr>\n",
       "  </thead>\n",
       "  <tbody>\n",
       "    <tr>\n",
       "      <th>0</th>\n",
       "      <td>0</td>\n",
       "      <td>R001</td>\n",
       "      <td>2011-05-01</td>\n",
       "      <td>01:00:00</td>\n",
       "      <td>1</td>\n",
       "      <td>REGULAR</td>\n",
       "      <td>0</td>\n",
       "      <td>0</td>\n",
       "      <td>30.31</td>\n",
       "      <td>42</td>\n",
       "      <td>...</td>\n",
       "      <td>39</td>\n",
       "      <td>30.27</td>\n",
       "      <td>0</td>\n",
       "      <td>0</td>\n",
       "      <td>5</td>\n",
       "      <td>50</td>\n",
       "      <td>60</td>\n",
       "      <td>69</td>\n",
       "      <td>0</td>\n",
       "      <td>0</td>\n",
       "    </tr>\n",
       "    <tr>\n",
       "      <th>1</th>\n",
       "      <td>1</td>\n",
       "      <td>R001</td>\n",
       "      <td>2011-05-01</td>\n",
       "      <td>05:00:00</td>\n",
       "      <td>5</td>\n",
       "      <td>REGULAR</td>\n",
       "      <td>217</td>\n",
       "      <td>553</td>\n",
       "      <td>30.31</td>\n",
       "      <td>42</td>\n",
       "      <td>...</td>\n",
       "      <td>39</td>\n",
       "      <td>30.27</td>\n",
       "      <td>0</td>\n",
       "      <td>0</td>\n",
       "      <td>5</td>\n",
       "      <td>50</td>\n",
       "      <td>60</td>\n",
       "      <td>69</td>\n",
       "      <td>0</td>\n",
       "      <td>0</td>\n",
       "    </tr>\n",
       "    <tr>\n",
       "      <th>2</th>\n",
       "      <td>2</td>\n",
       "      <td>R001</td>\n",
       "      <td>2011-05-01</td>\n",
       "      <td>09:00:00</td>\n",
       "      <td>9</td>\n",
       "      <td>REGULAR</td>\n",
       "      <td>890</td>\n",
       "      <td>1262</td>\n",
       "      <td>30.31</td>\n",
       "      <td>42</td>\n",
       "      <td>...</td>\n",
       "      <td>39</td>\n",
       "      <td>30.27</td>\n",
       "      <td>0</td>\n",
       "      <td>0</td>\n",
       "      <td>5</td>\n",
       "      <td>50</td>\n",
       "      <td>60</td>\n",
       "      <td>69</td>\n",
       "      <td>0</td>\n",
       "      <td>0</td>\n",
       "    </tr>\n",
       "    <tr>\n",
       "      <th>3</th>\n",
       "      <td>3</td>\n",
       "      <td>R001</td>\n",
       "      <td>2011-05-01</td>\n",
       "      <td>13:00:00</td>\n",
       "      <td>13</td>\n",
       "      <td>REGULAR</td>\n",
       "      <td>2451</td>\n",
       "      <td>3708</td>\n",
       "      <td>30.31</td>\n",
       "      <td>42</td>\n",
       "      <td>...</td>\n",
       "      <td>39</td>\n",
       "      <td>30.27</td>\n",
       "      <td>0</td>\n",
       "      <td>0</td>\n",
       "      <td>5</td>\n",
       "      <td>50</td>\n",
       "      <td>60</td>\n",
       "      <td>69</td>\n",
       "      <td>0</td>\n",
       "      <td>0</td>\n",
       "    </tr>\n",
       "    <tr>\n",
       "      <th>4</th>\n",
       "      <td>4</td>\n",
       "      <td>R001</td>\n",
       "      <td>2011-05-01</td>\n",
       "      <td>17:00:00</td>\n",
       "      <td>17</td>\n",
       "      <td>REGULAR</td>\n",
       "      <td>4400</td>\n",
       "      <td>2501</td>\n",
       "      <td>30.31</td>\n",
       "      <td>42</td>\n",
       "      <td>...</td>\n",
       "      <td>39</td>\n",
       "      <td>30.27</td>\n",
       "      <td>0</td>\n",
       "      <td>0</td>\n",
       "      <td>5</td>\n",
       "      <td>50</td>\n",
       "      <td>60</td>\n",
       "      <td>69</td>\n",
       "      <td>0</td>\n",
       "      <td>0</td>\n",
       "    </tr>\n",
       "  </tbody>\n",
       "</table>\n",
       "<p>5 rows × 22 columns</p>\n",
       "</div>"
      ],
      "text/plain": [
       "   Unnamed: 0  UNIT       DATEn     TIMEn  Hour    DESCn  ENTRIESn_hourly  \\\n",
       "0           0  R001  2011-05-01  01:00:00     1  REGULAR                0   \n",
       "1           1  R001  2011-05-01  05:00:00     5  REGULAR              217   \n",
       "2           2  R001  2011-05-01  09:00:00     9  REGULAR              890   \n",
       "3           3  R001  2011-05-01  13:00:00    13  REGULAR             2451   \n",
       "4           4  R001  2011-05-01  17:00:00    17  REGULAR             4400   \n",
       "\n",
       "   EXITSn_hourly  maxpressurei  maxdewpti   ...     meandewpti  meanpressurei  \\\n",
       "0              0         30.31         42   ...             39          30.27   \n",
       "1            553         30.31         42   ...             39          30.27   \n",
       "2           1262         30.31         42   ...             39          30.27   \n",
       "3           3708         30.31         42   ...             39          30.27   \n",
       "4           2501         30.31         42   ...             39          30.27   \n",
       "\n",
       "   fog  rain  meanwindspdi  mintempi  meantempi  maxtempi  precipi  thunder  \n",
       "0    0     0             5        50         60        69        0        0  \n",
       "1    0     0             5        50         60        69        0        0  \n",
       "2    0     0             5        50         60        69        0        0  \n",
       "3    0     0             5        50         60        69        0        0  \n",
       "4    0     0             5        50         60        69        0        0  \n",
       "\n",
       "[5 rows x 22 columns]"
      ]
     },
     "execution_count": 2,
     "metadata": {},
     "output_type": "execute_result"
    }
   ],
   "source": [
    "df = pd.read_csv('turnstile_data_master_with_weather.csv')\n",
    "print \"Months in dataset: {}\" . format(\n",
    "            df['DATEn'].apply(lambda x: datetime.strptime(x, \"%Y-%m-%d\").month).unique())\n",
    "\n",
    "df.head()"
   ]
  },
  {
   "cell_type": "code",
   "execution_count": 3,
   "metadata": {
    "collapsed": false
   },
   "outputs": [
    {
     "data": {
      "text/html": [
       "<div>\n",
       "<table border=\"1\" class=\"dataframe\">\n",
       "  <thead>\n",
       "    <tr style=\"text-align: right;\">\n",
       "      <th></th>\n",
       "      <th>Unnamed: 0</th>\n",
       "      <th>Hour</th>\n",
       "      <th>ENTRIESn_hourly</th>\n",
       "      <th>EXITSn_hourly</th>\n",
       "      <th>maxpressurei</th>\n",
       "      <th>maxdewpti</th>\n",
       "      <th>mindewpti</th>\n",
       "      <th>minpressurei</th>\n",
       "      <th>meandewpti</th>\n",
       "      <th>meanpressurei</th>\n",
       "      <th>fog</th>\n",
       "      <th>rain</th>\n",
       "      <th>meanwindspdi</th>\n",
       "      <th>mintempi</th>\n",
       "      <th>meantempi</th>\n",
       "      <th>maxtempi</th>\n",
       "      <th>precipi</th>\n",
       "      <th>thunder</th>\n",
       "    </tr>\n",
       "  </thead>\n",
       "  <tbody>\n",
       "    <tr>\n",
       "      <th>count</th>\n",
       "      <td>131951.000000</td>\n",
       "      <td>131951.000000</td>\n",
       "      <td>131951.000000</td>\n",
       "      <td>131951.000000</td>\n",
       "      <td>131951.000000</td>\n",
       "      <td>131951.000000</td>\n",
       "      <td>131951.000000</td>\n",
       "      <td>131951.000000</td>\n",
       "      <td>131951.000000</td>\n",
       "      <td>131951.000000</td>\n",
       "      <td>131951.000000</td>\n",
       "      <td>131951.000000</td>\n",
       "      <td>131951.000000</td>\n",
       "      <td>131951.000000</td>\n",
       "      <td>131951.000000</td>\n",
       "      <td>131951.000000</td>\n",
       "      <td>131951.000000</td>\n",
       "      <td>131951</td>\n",
       "    </tr>\n",
       "    <tr>\n",
       "      <th>mean</th>\n",
       "      <td>65975.000000</td>\n",
       "      <td>10.896158</td>\n",
       "      <td>1095.348478</td>\n",
       "      <td>886.890838</td>\n",
       "      <td>30.031894</td>\n",
       "      <td>57.241302</td>\n",
       "      <td>48.259013</td>\n",
       "      <td>29.892714</td>\n",
       "      <td>52.703526</td>\n",
       "      <td>29.965077</td>\n",
       "      <td>0.167100</td>\n",
       "      <td>0.334245</td>\n",
       "      <td>5.543065</td>\n",
       "      <td>56.169775</td>\n",
       "      <td>64.269729</td>\n",
       "      <td>71.769968</td>\n",
       "      <td>0.172276</td>\n",
       "      <td>0</td>\n",
       "    </tr>\n",
       "    <tr>\n",
       "      <th>std</th>\n",
       "      <td>38091.117022</td>\n",
       "      <td>6.892084</td>\n",
       "      <td>2337.015421</td>\n",
       "      <td>2008.604886</td>\n",
       "      <td>0.125689</td>\n",
       "      <td>8.770891</td>\n",
       "      <td>11.305312</td>\n",
       "      <td>0.146384</td>\n",
       "      <td>9.943590</td>\n",
       "      <td>0.130461</td>\n",
       "      <td>0.373066</td>\n",
       "      <td>0.471728</td>\n",
       "      <td>1.982441</td>\n",
       "      <td>6.338875</td>\n",
       "      <td>6.568289</td>\n",
       "      <td>7.627218</td>\n",
       "      <td>0.429005</td>\n",
       "      <td>0</td>\n",
       "    </tr>\n",
       "    <tr>\n",
       "      <th>min</th>\n",
       "      <td>0.000000</td>\n",
       "      <td>0.000000</td>\n",
       "      <td>0.000000</td>\n",
       "      <td>0.000000</td>\n",
       "      <td>29.740000</td>\n",
       "      <td>39.000000</td>\n",
       "      <td>22.000000</td>\n",
       "      <td>29.540000</td>\n",
       "      <td>31.000000</td>\n",
       "      <td>29.640000</td>\n",
       "      <td>0.000000</td>\n",
       "      <td>0.000000</td>\n",
       "      <td>1.000000</td>\n",
       "      <td>46.000000</td>\n",
       "      <td>55.000000</td>\n",
       "      <td>58.000000</td>\n",
       "      <td>0.000000</td>\n",
       "      <td>0</td>\n",
       "    </tr>\n",
       "    <tr>\n",
       "      <th>25%</th>\n",
       "      <td>32987.500000</td>\n",
       "      <td>5.000000</td>\n",
       "      <td>39.000000</td>\n",
       "      <td>32.000000</td>\n",
       "      <td>29.960000</td>\n",
       "      <td>50.000000</td>\n",
       "      <td>38.000000</td>\n",
       "      <td>29.840000</td>\n",
       "      <td>45.000000</td>\n",
       "      <td>29.910000</td>\n",
       "      <td>0.000000</td>\n",
       "      <td>0.000000</td>\n",
       "      <td>5.000000</td>\n",
       "      <td>52.000000</td>\n",
       "      <td>60.000000</td>\n",
       "      <td>65.000000</td>\n",
       "      <td>0.000000</td>\n",
       "      <td>0</td>\n",
       "    </tr>\n",
       "    <tr>\n",
       "      <th>50%</th>\n",
       "      <td>65975.000000</td>\n",
       "      <td>12.000000</td>\n",
       "      <td>279.000000</td>\n",
       "      <td>232.000000</td>\n",
       "      <td>30.030000</td>\n",
       "      <td>57.000000</td>\n",
       "      <td>51.000000</td>\n",
       "      <td>29.910000</td>\n",
       "      <td>54.000000</td>\n",
       "      <td>29.960000</td>\n",
       "      <td>0.000000</td>\n",
       "      <td>0.000000</td>\n",
       "      <td>5.000000</td>\n",
       "      <td>54.000000</td>\n",
       "      <td>63.000000</td>\n",
       "      <td>71.000000</td>\n",
       "      <td>0.000000</td>\n",
       "      <td>0</td>\n",
       "    </tr>\n",
       "    <tr>\n",
       "      <th>75%</th>\n",
       "      <td>98962.500000</td>\n",
       "      <td>17.000000</td>\n",
       "      <td>1109.000000</td>\n",
       "      <td>847.000000</td>\n",
       "      <td>30.100000</td>\n",
       "      <td>64.000000</td>\n",
       "      <td>55.000000</td>\n",
       "      <td>29.970000</td>\n",
       "      <td>60.000000</td>\n",
       "      <td>30.050000</td>\n",
       "      <td>0.000000</td>\n",
       "      <td>1.000000</td>\n",
       "      <td>6.000000</td>\n",
       "      <td>60.000000</td>\n",
       "      <td>68.000000</td>\n",
       "      <td>78.000000</td>\n",
       "      <td>0.100000</td>\n",
       "      <td>0</td>\n",
       "    </tr>\n",
       "    <tr>\n",
       "      <th>max</th>\n",
       "      <td>131950.000000</td>\n",
       "      <td>23.000000</td>\n",
       "      <td>51839.000000</td>\n",
       "      <td>45249.000000</td>\n",
       "      <td>30.310000</td>\n",
       "      <td>70.000000</td>\n",
       "      <td>66.000000</td>\n",
       "      <td>30.230000</td>\n",
       "      <td>68.000000</td>\n",
       "      <td>30.270000</td>\n",
       "      <td>1.000000</td>\n",
       "      <td>1.000000</td>\n",
       "      <td>12.000000</td>\n",
       "      <td>70.000000</td>\n",
       "      <td>78.000000</td>\n",
       "      <td>86.000000</td>\n",
       "      <td>2.180000</td>\n",
       "      <td>0</td>\n",
       "    </tr>\n",
       "  </tbody>\n",
       "</table>\n",
       "</div>"
      ],
      "text/plain": [
       "          Unnamed: 0           Hour  ENTRIESn_hourly  EXITSn_hourly  \\\n",
       "count  131951.000000  131951.000000    131951.000000  131951.000000   \n",
       "mean    65975.000000      10.896158      1095.348478     886.890838   \n",
       "std     38091.117022       6.892084      2337.015421    2008.604886   \n",
       "min         0.000000       0.000000         0.000000       0.000000   \n",
       "25%     32987.500000       5.000000        39.000000      32.000000   \n",
       "50%     65975.000000      12.000000       279.000000     232.000000   \n",
       "75%     98962.500000      17.000000      1109.000000     847.000000   \n",
       "max    131950.000000      23.000000     51839.000000   45249.000000   \n",
       "\n",
       "        maxpressurei      maxdewpti      mindewpti   minpressurei  \\\n",
       "count  131951.000000  131951.000000  131951.000000  131951.000000   \n",
       "mean       30.031894      57.241302      48.259013      29.892714   \n",
       "std         0.125689       8.770891      11.305312       0.146384   \n",
       "min        29.740000      39.000000      22.000000      29.540000   \n",
       "25%        29.960000      50.000000      38.000000      29.840000   \n",
       "50%        30.030000      57.000000      51.000000      29.910000   \n",
       "75%        30.100000      64.000000      55.000000      29.970000   \n",
       "max        30.310000      70.000000      66.000000      30.230000   \n",
       "\n",
       "          meandewpti  meanpressurei            fog           rain  \\\n",
       "count  131951.000000  131951.000000  131951.000000  131951.000000   \n",
       "mean       52.703526      29.965077       0.167100       0.334245   \n",
       "std         9.943590       0.130461       0.373066       0.471728   \n",
       "min        31.000000      29.640000       0.000000       0.000000   \n",
       "25%        45.000000      29.910000       0.000000       0.000000   \n",
       "50%        54.000000      29.960000       0.000000       0.000000   \n",
       "75%        60.000000      30.050000       0.000000       1.000000   \n",
       "max        68.000000      30.270000       1.000000       1.000000   \n",
       "\n",
       "        meanwindspdi       mintempi      meantempi       maxtempi  \\\n",
       "count  131951.000000  131951.000000  131951.000000  131951.000000   \n",
       "mean        5.543065      56.169775      64.269729      71.769968   \n",
       "std         1.982441       6.338875       6.568289       7.627218   \n",
       "min         1.000000      46.000000      55.000000      58.000000   \n",
       "25%         5.000000      52.000000      60.000000      65.000000   \n",
       "50%         5.000000      54.000000      63.000000      71.000000   \n",
       "75%         6.000000      60.000000      68.000000      78.000000   \n",
       "max        12.000000      70.000000      78.000000      86.000000   \n",
       "\n",
       "             precipi  thunder  \n",
       "count  131951.000000   131951  \n",
       "mean        0.172276        0  \n",
       "std         0.429005        0  \n",
       "min         0.000000        0  \n",
       "25%         0.000000        0  \n",
       "50%         0.000000        0  \n",
       "75%         0.100000        0  \n",
       "max         2.180000        0  "
      ]
     },
     "execution_count": 3,
     "metadata": {},
     "output_type": "execute_result"
    }
   ],
   "source": [
    "df.describe()"
   ]
  },
  {
   "cell_type": "markdown",
   "metadata": {},
   "source": [
    "## Section 1. Statistical Test\n",
    "\n",
    "#### 1.1 Which statistical test did you use to analyze the NYC subway data? Did you use a one-tail or a two-tail P value? What is the null hypothesis? What is your p-critical value?\n",
    "\n",
    "#### 1.2 Why is this statistical test applicable to the dataset? In particular, consider the assumptions that the test is making about the distribution of ridership in the two samples.\n",
    "\n",
    "#### 1.3 What results did you get from this statistical test? These should include the following numerical values: p-values, as well as the means for each of the two samples under test.\n",
    "\n",
    "#### 1.4 What is the significance and interpretation of these results?\n",
    "\n",
    "I used the two-tailed Mann-Whitney U-test to compare the number of turnstile entries on rainy days and non-rainy days. \n",
    "\n",
    "The test gives us the U-statistic and the p-value. Note that the p-value returned by scipy.stats.mannwhitneyu is one-tailed, and threfore we need to multiple the p-value by two. \n",
    "\n",
    "I set p-critical to 0.05.  \n",
    "\n",
    "$H_0$: Ridership samples for rainy and non-rainy days come from the same population.\n",
    "\n",
    "$H_A$: Rideship samples for rainy and non-rainy days come from different population and one of the samples have larger values than the other.\n",
    "\n",
    "where R stands for rainy, and N stands for non-rainy days. \n",
    "\n",
    "The Mann-Whitney test is appropriate in this case because there is no assumption about the underlying distributions (see histogram). This is referred to as a non-parametric test, a statistical test that does not assume our data is drawn from any particular underlying probability distribution (such as a normal distribution)."
   ]
  },
  {
   "cell_type": "code",
   "execution_count": 4,
   "metadata": {
    "collapsed": false
   },
   "outputs": [
    {
     "name": "stdout",
     "output_type": "stream",
     "text": [
      "Rain Samples: 44104\n",
      "Mean(Rain): 1105.44637675\n",
      "No Rain Samples: 87847\n",
      "Mean(No Rain): 1090.27878015\n"
     ]
    }
   ],
   "source": [
    "with_rain = df[df.rain == 1]['ENTRIESn_hourly']\n",
    "without_rain = df[df.rain == 0]['ENTRIESn_hourly']\n",
    "\n",
    "print \"Rain Samples: {}\".format(with_rain.count())\n",
    "print \"Mean(Rain): {}\".format(with_rain.mean())\n",
    "#print \"Sum(Rain): {}\".format(with_rain.sum())\n",
    "print \"No Rain Samples: {}\".format(without_rain.count())\n",
    "print \"Mean(No Rain): {}\".format(without_rain.mean())\n",
    "#print \"Sum(No Rain): {}\".format(without_rain.sum())"
   ]
  },
  {
   "cell_type": "code",
   "execution_count": 6,
   "metadata": {
    "collapsed": false
   },
   "outputs": [
    {
     "name": "stdout",
     "output_type": "stream",
     "text": [
      "W = 0.471591472626 ; p-value = 0.0\n",
      "W = 0.476617872715 ; p-value = 0.0\n",
      "Data is not normal because p-value = 0.0 (for both rain and non-rain)\n"
     ]
    }
   ],
   "source": [
    "#check if data is normal using Shapiro-Wilk test\n",
    "\n",
    "(W, p) = scipy.stats.shapiro(with_rain)\n",
    "print \"W = {} ; p-value = {}\".format(W,p)\n",
    "\n",
    "(W, p) = scipy.stats.shapiro(without_rain)\n",
    "print \"W = {} ; p-value = {}\".format(W,p)\n",
    "\n",
    "print \"Data is not normal because p-value = 0.0 (for both rain and non-rain)\""
   ]
  },
  {
   "cell_type": "code",
   "execution_count": 7,
   "metadata": {
    "collapsed": false
   },
   "outputs": [
    {
     "name": "stdout",
     "output_type": "stream",
     "text": [
      "Mann-Whitney Test Statistic 1924409167.0\n",
      "p-value 0.0249999127935\n",
      "U: (1924409167.0,1949994921.0)\n"
     ]
    }
   ],
   "source": [
    "(U, p) = scipy.stats.mannwhitneyu(with_rain, without_rain)\n",
    "print \"Mann-Whitney Test Statistic {}\".format(U)\n",
    "print \"p-value {}\".format(p)\n",
    "\n",
    "#compute small and big U (as seen in the mannwhitneyu source)\n",
    "x = np.asarray(with_rain)\n",
    "y = np.asarray(without_rain)\n",
    "n1 = len(x)\n",
    "n2 = len(y)\n",
    "ranked = scipy.stats.rankdata(np.concatenate((x, y)))\n",
    "rankx = ranked[0:n1]  # get the x-ranks\n",
    "u1 = n1*n2 + (n1*(n1+1))/2.0 - np.sum(rankx, axis=0)  # calc U for x\n",
    "u2 = n1*n2 - u1  # remainder is U for y\n",
    "bigu = max(u1, u2)\n",
    "smallu = min(u1, u2)\n",
    "\n",
    "print \"U: ({},{})\".format(smallu, bigu)"
   ]
  },
  {
   "cell_type": "code",
   "execution_count": 8,
   "metadata": {
    "collapsed": false
   },
   "outputs": [
    {
     "name": "stdout",
     "output_type": "stream",
     "text": [
      "Reject null\n"
     ]
    }
   ],
   "source": [
    "alpha = 0.05 #p-critical\n",
    "\n",
    "if p*2 < alpha:\n",
    "    print \"Reject null\"\n",
    "else:\n",
    "    print \"Accept null\""
   ]
  },
  {
   "cell_type": "markdown",
   "metadata": {},
   "source": [
    "Sample's means ratio (~0.99) makes it difficult to draw any conclusions. From the absolute mean values, one can see that NYC subway's ridership is higher on rainy days than on non-rainy days. U-statistic U is close to the maximal value, which would indicates that H0 is true. \n",
    "\n",
    "However, p-value is rather low, meaning that two populations significantly differ from each other. Thus,with 95% confidence, we reject the null hypothesis: i.e., ridership differ on rainy and non-rainy days."
   ]
  },
  {
   "cell_type": "markdown",
   "metadata": {},
   "source": [
    "## Section 2: Linear Regression"
   ]
  },
  {
   "cell_type": "markdown",
   "metadata": {},
   "source": [
    "#### 2.1 What approach did you use to compute the coefficients theta and produce prediction for ENTRIESn_hourly in your regression model:\n",
    "- OLS using Statsmodels or Scikit Learn\n",
    "- Gradient descent using Scikit Learn\n",
    "- Or something different?\n",
    "\n",
    "I've chosen the OLS using Statsmodel.\n",
    "\n",
    "\n",
    "#### 2.2 What features (input variables) did you use in your model? Did you use any dummy variables as part of your features?\n",
    "\n",
    "I've used the following features: rain, fog, Hour, meantempi.\n",
    "\n",
    "The following feature are created by transforming data: precipi – The square root of the 'precipi' field in the turnstile_master dataset. \n",
    "\n",
    "Dummy variables are used to include categorical data as features in a linear model: UNIT; and  weekday, i.e.,  the day of the week as an integer between 0 and 6 (Monday = 0)"
   ]
  },
  {
   "cell_type": "code",
   "execution_count": 9,
   "metadata": {
    "collapsed": false
   },
   "outputs": [],
   "source": [
    "# Select Features\n",
    "# 'fog' and 'meantempi' seems to strongly correlate with rain.\n",
    "features = df[['rain', 'fog', 'Hour', 'meantempi']]\n",
    "\n",
    "# prevent warning\n",
    "features.is_copy = False \n",
    "\n",
    "#seems to strongly correlate with 'rain'\n",
    "##features['precipi'] = df['precipi'] ** 0.5\n",
    "\n",
    "# UNIT\n",
    "dummy_units = pd.get_dummies(df['UNIT'], prefix='unit')\n",
    "features = features.join(dummy_units)\n",
    "\n",
    "# weekday \n",
    "dummy_units = pd.get_dummies(df['DATEn'].apply(lambda x: \n",
    "                                               datetime.strptime(x, \"%Y-%m-%d\").weekday()), \n",
    "                             prefix='weekday')\n",
    "features = features.join(dummy_units)\n"
   ]
  },
  {
   "cell_type": "markdown",
   "metadata": {},
   "source": [
    "#### 2.3 Why did you select these features in your model? We are looking for specific reasons that lead you to believe that the selected features will contribute to the predictive power of your model.\n",
    "\n",
    "meantempi is used as a feature because temperature may impact decision making as to use the subway or not. \n",
    "\n",
    "Hour and weekday features were used because the ridership varies with time of day and day of week. \n",
    "\n",
    "fog is used as feature because it may have an impact on people deciding to use the subway. \n",
    "\n",
    "I also use units as feature to account for locality."
   ]
  },
  {
   "cell_type": "markdown",
   "metadata": {},
   "source": [
    "#### 2.4 What are the parameters (also known as \"coefficients\" or \"weights\") of the non-dummy features in your linear regression model?"
   ]
  },
  {
   "cell_type": "code",
   "execution_count": 10,
   "metadata": {
    "collapsed": false,
    "scrolled": false
   },
   "outputs": [
    {
     "name": "stdout",
     "output_type": "stream",
     "text": [
      "Rain variable coefficient: -86.3231967078\n",
      "Rain variable p-value: 9.34596688609e-13\n",
      "R^2 = 0.470409944704\n"
     ]
    }
   ],
   "source": [
    "# ridership values\n",
    "values = df[['ENTRIESn_hourly']]\n",
    "m = len(values)\n",
    "    \n",
    "features = sm.add_constant(features)\n",
    "model = sm.OLS(values,features)\n",
    "results = model.fit()\n",
    "\n",
    "print \"Rain variable coefficient: {}\".format(results.params.rain)\n",
    "print \"Rain variable p-value: {}\".format(results.pvalues['rain'])\n",
    "\n",
    "print \"R^2 = {}\".format(results.rsquared)\n",
    "\n",
    "#results.summary()"
   ]
  },
  {
   "cell_type": "markdown",
   "metadata": {},
   "source": [
    "#### 2.5 What is your model’s $R^2$ (coefficients of determination) value?\n",
    "\n",
    "$R^2 = 0.470$\n",
    "\n",
    "#### 2.6 What does this $R^2$ value mean for the goodness of fit for your regression model? Do you think this linear model to predict ridership is appropriate for this dataset, given this $R^2$  value?\n",
    "\n",
    "$R^2$ indicates how well data fit a statistical model. It ranges from 0.0 to 1.0, where 0.0 means that data doesn't fit at all and 1.0 means that data fits perfectly. This $R^2$ value is low entails that the fit of this linear regression model is not good. The categorical nature of data in the data set, such as UNIT, makes a linear model inappropriate."
   ]
  },
  {
   "cell_type": "code",
   "execution_count": 11,
   "metadata": {
    "collapsed": false
   },
   "outputs": [
    {
     "data": {
      "text/plain": [
       "<matplotlib.axes._subplots.AxesSubplot at 0x10af7fc90>"
      ]
     },
     "execution_count": 11,
     "metadata": {},
     "output_type": "execute_result"
    },
    {
     "data": {
      "image/png": "[encoded data removed]",
      "text/plain": [
       "<matplotlib.figure.Figure at 0x10e5fe7d0>"
      ]
     },
     "metadata": {},
     "output_type": "display_data"
    }
   ],
   "source": [
    "#graphical view of model prediction\n",
    "#fig, ax = plt.subplots()\n",
    "#\n",
    "#x = xrange(0, len(values))\n",
    "#y = values\n",
    "#\n",
    "#ax.plot(x, y, 'o', label=\"Data\")\n",
    "#ax.plot(x, results.predict(features), 'r', label=\"OLS prediction\")\n",
    "#ax.legend(loc=\"best\");\n",
    "\n",
    "y = values\n",
    "predictions = results.predict(features)\n",
    "\n",
    "#residuals\n",
    "(y['ENTRIESn_hourly'] - predictions).hist(bins=100)"
   ]
  },
  {
   "cell_type": "markdown",
   "metadata": {},
   "source": [
    "The long tails in the distribution of the residuals indicate that this is not a model. "
   ]
  },
  {
   "cell_type": "code",
   "execution_count": 12,
   "metadata": {
    "collapsed": false
   },
   "outputs": [
    {
     "data": {
      "text/plain": [
       "((array([-4.40648615, -4.21031205, -4.10370309, ...,  4.10370309,\n",
       "          4.21031205,  4.40648615]),\n",
       "  array([-12090.7103263 , -12046.24602267, -11998.34212781, ...,\n",
       "          30787.2040309 ,  38723.6621204 ,  39152.3084937 ])),\n",
       " (1366.0045019038012, -1.4649796768491478e-10, 0.80317009995022259))"
      ]
     },
     "execution_count": 12,
     "metadata": {},
     "output_type": "execute_result"
    },
    {
     "data": {
      "image/png": "[encoded data removed]",
      "text/plain": [
       "<matplotlib.figure.Figure at 0x10af7fdd0>"
      ]
     },
     "metadata": {},
     "output_type": "display_data"
    }
   ],
   "source": [
    "scipy.stats.probplot(y['ENTRIESn_hourly'] - predictions, plot=plt)"
   ]
  },
  {
   "cell_type": "markdown",
   "metadata": {},
   "source": [
    "This Q-Q plot shows that the linear model is not adaquite for predicting ridership."
   ]
  },
  {
   "cell_type": "markdown",
   "metadata": {},
   "source": [
    "#### Using Gradient descent using Scikit Learn, is it any better?"
   ]
  },
  {
   "cell_type": "code",
   "execution_count": 13,
   "metadata": {
    "collapsed": false
   },
   "outputs": [
    {
     "name": "stdout",
     "output_type": "stream",
     "text": [
      "Residual sum of squares: 2892419.12\n",
      "R^2: 0.47\n"
     ]
    },
    {
     "data": {
      "text/plain": [
       "<matplotlib.axes._subplots.AxesSubplot at 0x10c7d9050>"
      ]
     },
     "execution_count": 13,
     "metadata": {},
     "output_type": "execute_result"
    },
    {
     "data": {
      "image/png": "[encoded data removed]",
      "text/plain": [
       "<matplotlib.figure.Figure at 0x107464710>"
      ]
     },
     "metadata": {},
     "output_type": "display_data"
    }
   ],
   "source": [
    "regr = linear_model.LinearRegression()\n",
    "regr.fit(features, values)\n",
    "\n",
    "# The coefficients\n",
    "#print('Coefficients: \\n', regr.coef_)\n",
    "# The mean square error\n",
    "print(\"Residual sum of squares: %.2f\"\n",
    "      % np.mean((regr.predict(features) - values) ** 2))\n",
    "\n",
    "# Explained variance score: 1 is perfect prediction\n",
    "print('R^2: %.2f' % regr.score(features, values))\n",
    "\n",
    "# Plot outputs\n",
    "x = xrange(0, len(values))\n",
    "y = values\n",
    "\n",
    "y = values\n",
    "predictions = results.predict(features)\n",
    "\n",
    "#residuals\n",
    "(y['ENTRIESn_hourly'] - predictions).hist(bins=100)"
   ]
  },
  {
   "cell_type": "code",
   "execution_count": 14,
   "metadata": {
    "collapsed": false
   },
   "outputs": [
    {
     "data": {
      "text/plain": [
       "((array([-4.40648615, -4.21031205, -4.10370309, ...,  4.10370309,\n",
       "          4.21031205,  4.40648615]),\n",
       "  array([-12090.7103263 , -12046.24602267, -11998.34212781, ...,\n",
       "          30787.2040309 ,  38723.6621204 ,  39152.3084937 ])),\n",
       " (1366.0045019038012, -1.4649796768491478e-10, 0.80317009995022259))"
      ]
     },
     "execution_count": 14,
     "metadata": {},
     "output_type": "execute_result"
    },
    {
     "data": {
      "image/png": "[encoded data removed]",
      "text/plain": [
       "<matplotlib.figure.Figure at 0x10b35fc50>"
      ]
     },
     "metadata": {},
     "output_type": "display_data"
    }
   ],
   "source": [
    "scipy.stats.probplot(y['ENTRIESn_hourly'] - predictions, plot=plt)"
   ]
  },
  {
   "cell_type": "markdown",
   "metadata": {},
   "source": [
    "Again $R^2$ is rather low, so this model is not adequate. We can also see from the plot that the model does not properly predict the hourly entries. Same conclusion as for the OLS."
   ]
  },
  {
   "cell_type": "markdown",
   "metadata": {},
   "source": [
    "## Section 3. Visualization\n",
    "\n",
    "**Please include two visualizations that show the relationships between two or more variables in the NYC subway data.\n",
    "Remember to add appropriate titles and axes labels to your plots. Also, please add a short description below each figure commenting on the key insights depicted in the figure.**\n",
    "\n",
    "**3.1 One visualization should contain two histograms: one of  ENTRIESn_hourly for rainy days and one of ENTRIESn_hourly for non-rainy days.**"
   ]
  },
  {
   "cell_type": "code",
   "execution_count": 15,
   "metadata": {
    "collapsed": false
   },
   "outputs": [
    {
     "data": {
      "text/plain": [
       "<matplotlib.legend.Legend at 0x101cba810>"
      ]
     },
     "execution_count": 15,
     "metadata": {},
     "output_type": "execute_result"
    },
    {
     "data": {
      "image/png": "[encoded data removed]",
      "text/plain": [
       "<matplotlib.figure.Figure at 0x10caba1d0>"
      ]
     },
     "metadata": {},
     "output_type": "display_data"
    }
   ],
   "source": [
    "plt.figure()\n",
    "\n",
    "nbins = 50\n",
    "start_bin = min(df['ENTRIESn_hourly'])\n",
    "stop_bin = 1000 #max(df['ENTRIESn_hourly'])\n",
    "bin_width = (stop_bin - start_bin)/nbins\n",
    "\n",
    "bin_list = np.arange(start_bin, stop_bin, bin_width)\n",
    "\n",
    "without_rain.hist(label='No Rain', bins = bin_list, alpha = 0.5)\n",
    "with_rain.hist(label='Rain', bins = bin_list, alpha = 0.5)\n",
    "\n",
    "plt.ylim(ymax = 18300, ymin = 0)\n",
    "\n",
    "plt.title('Histogram ENTRIESn_hourly')\n",
    "plt.xlabel('ENTRIESn_hourly')\n",
    "plt.ylabel('Frequency')\n",
    "plt.legend()"
   ]
  },
  {
   "cell_type": "markdown",
   "metadata": {},
   "source": [
    "The ENTRIESn_hourly's seems to **not** be normally distributed (as confirmed by the Shapiro-Wilk test) and skewed to the right on both rainy and non-rainy days.\n",
    "\n",
    "**3.2 One visualization can be more freeform. You should feel free to implement something that we discussed in class (e.g., scatter plots, line plots) or attempt to implement something more advanced if you'd like.**"
   ]
  },
  {
   "cell_type": "code",
   "execution_count": 17,
   "metadata": {
    "collapsed": false
   },
   "outputs": [
    {
     "name": "stdout",
     "output_type": "stream",
     "text": [
      "         DATEn  weekdayentries  temp\n",
      "0   2011-05-01         2370432    60\n",
      "1   2011-05-02         5317143    57\n",
      "2   2011-05-03         5840327    65\n",
      "3   2011-05-04         5836427    55\n",
      "4   2011-05-05         5900352    56\n",
      "5   2011-05-06         5862195    61\n",
      "6   2011-05-07         3530107    64\n",
      "7   2011-05-08         2683954    63\n",
      "8   2011-05-09         5346657    63\n",
      "9   2011-05-10         5767646    64\n",
      "10  2011-05-11         5894916    62\n",
      "11  2011-05-12         5907349    63\n",
      "12  2011-05-13         5863115    60\n",
      "13  2011-05-14         3537323    61\n",
      "14  2011-05-15         2685406    64\n",
      "15  2011-05-16         5428740    58\n",
      "16  2011-05-17         5669840    56\n",
      "17  2011-05-18         5866031    61\n",
      "18  2011-05-19         5811475    68\n",
      "19  2011-05-20         5792009    61\n",
      "20  2011-05-21         3627123    67\n",
      "21  2011-05-22         2717714    56\n",
      "22  2011-05-23         5376031    61\n",
      "23  2011-05-24         5720141    74\n",
      "24  2011-05-25         5965262    75\n",
      "25  2011-05-26         5867473    71\n",
      "26  2011-05-27         5613454    74\n",
      "27  2011-05-28         3349552    76\n",
      "28  2011-05-29         2722608    75\n",
      "29  2011-05-30         2661525    78\n"
     ]
    }
   ],
   "source": [
    "import pandasql\n",
    "\n",
    "df_stats = df[['DATEn', 'ENTRIESn_hourly', 'rain', 'meantempi']]\n",
    "df_stats.is_copy = False \n",
    "df_stats['weekday'] = df['DATEn'].apply(lambda x: \n",
    "                                        datetime.strptime(x, \"%Y-%m-%d\").strftime('%w'))\n",
    "    \n",
    "total_weekday = \"\"\"\n",
    "    select weekday, sum(ENTRIESn_hourly) as weekdayentries, count(*)\n",
    "    from df_stats\n",
    "    group by weekday\n",
    "    \"\"\"\n",
    "\n",
    "qrainy = \"\"\"\n",
    "    select weekday, sum(ENTRIESn_hourly) as weekdayentries, count(*)\n",
    "    from df_stats\n",
    "    where rain = 1\n",
    "    group by weekday\n",
    "    \"\"\"\n",
    "\n",
    "qnonrainy = \"\"\"\n",
    "    select weekday, sum(ENTRIESn_hourly) as weekdayentries, count(*)\n",
    "    from df_stats\n",
    "    where rain = 0\n",
    "    group by weekday\n",
    "    \"\"\"\n",
    "\n",
    "total_perday = \"\"\"\n",
    "    select DATEn, sum(ENTRIESn_hourly) as weekdayentries, avg(meantempi) as temp\n",
    "    from df_stats\n",
    "    group by DATEn\n",
    "    \"\"\"\n",
    "\n",
    "#Execute SQL command against the pandas frame\n",
    "total_weekdays = pandasql.sqldf(total_weekday.lower(), locals())\n",
    "rainy_weekdays = pandasql.sqldf(qrainy.lower(), locals())\n",
    "norainy_weekdays = pandasql.sqldf(qnonrainy.lower(), locals())\n",
    "total_perday_res = pandasql.sqldf(total_perday.lower(), locals())\n",
    "\n",
    "#ridership_temp = pandasql.sqldf(ridership_per_temp.lower(), locals())\n",
    "\n",
    "#print total_weekdays\n",
    "#print rainy_weekdays\n",
    "#print norainy_weekdays\n",
    "print total_perday_res"
   ]
  },
  {
   "cell_type": "code",
   "execution_count": 18,
   "metadata": {
    "collapsed": false
   },
   "outputs": [
    {
     "data": {
      "text/plain": [
       "<matplotlib.legend.Legend at 0x133487410>"
      ]
     },
     "execution_count": 18,
     "metadata": {},
     "output_type": "execute_result"
    },
    {
     "data": {
      "text/plain": [
       "<matplotlib.figure.Figure at 0x10b352150>"
      ]
     },
     "metadata": {},
     "output_type": "display_data"
    },
    {
     "data": {
      "image/png": "[encoded data removed]",
      "text/plain": [
       "<matplotlib.figure.Figure at 0x10c077c50>"
      ]
     },
     "metadata": {},
     "output_type": "display_data"
    }
   ],
   "source": [
    "plt.figure()\n",
    "\n",
    "merged = total_weekdays\n",
    "merged['Total'] = total_weekdays['weekdayentries']\n",
    "merged['Rain'] = rainy_weekdays['weekdayentries']\n",
    "merged['No Rain'] = norainy_weekdays['weekdayentries']\n",
    "\n",
    "merged = merged[['No Rain', 'Rain', 'Total']]\n",
    "\n",
    "merged.plot(kind='bar', alpha = 0.5)\n",
    "\n",
    "plt.title('Barplot of entries per weekday')\n",
    "plt.xlabel('Weekday (Monday = 0)')\n",
    "plt.legend(loc='upper center', bbox_to_anchor=(0.5, 1.15), ncol=3, fancybox=True, shadow=True)"
   ]
  },
  {
   "cell_type": "markdown",
   "metadata": {},
   "source": [
    "The barplot show the entries per weekday for both rainy and non rainy days, as well as the total entries. It seems to show that more people ride the subway when it is not raining, which is does not fit the fact that the average entries during rainy days is higher (suggesting ridership otherwise)."
   ]
  },
  {
   "cell_type": "code",
   "execution_count": 19,
   "metadata": {
    "collapsed": false
   },
   "outputs": [
    {
     "data": {
      "image/png": "[encoded data removed]",
      "text/plain": [
       "<matplotlib.figure.Figure at 0x13341a2d0>"
      ]
     },
     "metadata": {},
     "output_type": "display_data"
    },
    {
     "data": {
      "text/plain": [
       "<Container object of 17 artists>"
      ]
     },
     "execution_count": 19,
     "metadata": {},
     "output_type": "execute_result"
    },
    {
     "data": {
      "image/png": "[encoded data removed]",
      "text/plain": [
       "<matplotlib.figure.Figure at 0x13265ae50>"
      ]
     },
     "metadata": {},
     "output_type": "display_data"
    }
   ],
   "source": [
    "\n",
    "y = total_perday_res['weekdayentries']\n",
    "x = total_perday_res.index + 1\n",
    "t = total_perday_res['temp']\n",
    "\n",
    "plt.scatter(x, y, c=t, cmap='jet')\n",
    "\n",
    "cb=plt.colorbar(ticks=np.array(t))\n",
    "\n",
    "plt.title('Total ridership vs. temperature')\n",
    "plt.xlabel('Day of the month')\n",
    "plt.ylabel('Total Entries')\n",
    "plt.xlim(0, 31)\n",
    "plt.xticks(x)\n",
    "\n",
    "plt.show()\n",
    "\n",
    "\n",
    "dtmp = np.sort(t.unique())\n",
    "data = np.zeros(len(dtmp))\n",
    "\n",
    "i = 0\n",
    "for key, grp in total_perday_res.groupby(['temp']):\n",
    "    #print key, grp['weekdayentries'].sum() \n",
    "    data[i] = grp['weekdayentries'].sum() \n",
    "    i = i+1\n",
    "\n",
    "plt.title('Temperature vs ridership ')\n",
    "plt.xlabel('Temperature')\n",
    "plt.ylabel('Total Number of Entries')\n",
    "plt.xticks(dtmp)\n",
    "plt.bar(dtmp, data, alpha = 0.5, align='center')"
   ]
  },
  {
   "cell_type": "markdown",
   "metadata": {},
   "source": [
    "The plot shows ridership vs. mean temperature (in F). This plot suggests that there is no \"correlation\" between mean temperature and ridership. No correlation in the sense that temperature does not seem to have a positive/negative impact on ridership (see the link below for what plots show -- correlation is not shown in barplots, and I am misusing the word). \n",
    "\n",
    "(Different types of plots: https://blog.udemy.com/different-kinds-of-graphs/)"
   ]
  },
  {
   "cell_type": "markdown",
   "metadata": {
    "collapsed": true
   },
   "source": [
    "## Section 4. Conclusion"
   ]
  },
  {
   "cell_type": "markdown",
   "metadata": {},
   "source": [
    "**4.1 From your analysis and interpretation of the data, do more people ride the NYC subway when it is raining or when it is not raining?**\n",
    "\n",
    "Given that (i) the mean shows that there is more ridership when it is raining and the Mann-Whitney U test confirms that this difference is significant, I conclude that there is more ridership when it is raining. \n",
    "\n",
    "Given that there are features that may strongly correlate with rain (see next answer), hence the potential reason for the negative coeff fo the rain variable, I am not using this test to draw any conclusions.  \n",
    "\n",
    "**4.2 What analyses lead you to this conclusion? You should use results from both your statistical tests and your linear regression to support your analysis.**\n",
    "\n",
    "I've drawn the conclusion after using the Mann-Whitney U test to test whether or not there is significant difference in ridership distribution on rainy and non-rainy days. The Mann-Whitney U test was chosen after confirming that the data does not follow a normal distribution using the Shapiro-Wilk test. The results of the U-test rejects the null hypothesis: i.e., if we randomly take a day from the rain sample and the no-rain sample, one is more likely to show a higher ridership.\n",
    "\n",
    "The regression test I used (OLS), using only features available in the dataset, is not good for predictions (low $R^2$). The negative coeff ($\\theta$ = -86.3232) of the rain variable indicates that there is a negative relation between rain and ridership. Given this negative coefficient, linear regression suggests the opposite of the statistical test. This might, however, be an effect of multicollinearity. Preliminary investigation for strongly correlated features indicates that fog, meantempi and dummy weekday features strongly correlate with rain. Removing them from the model, increases the rain variable coefficient to $17.6455$, but yields an $R^2$ of 0.458. Hence, prediction is far from being accurate.   \n",
    "\n",
    "Hence, more investigation is needed to engineer a better model and features, to be able to predict ridership. "
   ]
  },
  {
   "cell_type": "markdown",
   "metadata": {},
   "source": [
    "## Section 5. Reflection\n",
    "\n",
    "**5.1 Please discuss potential shortcomings of the methods of your analysis, including:\n",
    "Dataset, Analysis, such as the linear regression model or statistical test. **\n",
    "\n",
    "The dataset is just one month of data (may), and therefore entails low variability of several features (raining, fog) that may lead to use of the subway. \n",
    "\n",
    "Categorical data requires to check whether the data is linearly separable or not. Also seasonality, which seems to be a property of this data, requires other models such as ARIMA/ARMA. \n",
    "\n",
    "**5.2 (Optional) Do you have any other insight about the dataset that you would like to share with us?**"
   ]
  },
  {
   "cell_type": "markdown",
   "metadata": {},
   "source": [
    "Contrary to all other weekdays, the ridership on non rainy Tuesdays is not higher than on rainy Tuesdays. This is the only day of the week where this happened - it does not follow our statistical analysis. "
   ]
  },
  {
   "cell_type": "code",
   "execution_count": null,
   "metadata": {
    "collapsed": true
   },
   "outputs": [],
   "source": []
  }
 ],
 "metadata": {
  "kernelspec": {
   "display_name": "Python 2",
   "language": "python",
   "name": "python2"
  },
  "language_info": {
   "codemirror_mode": {
    "name": "ipython",
    "version": 2
   },
   "file_extension": ".py",
   "mimetype": "text/x-python",
   "name": "python",
   "nbconvert_exporter": "python",
   "pygments_lexer": "ipython2",
   "version": "2.7.10"
  }
 },
 "nbformat": 4,
 "nbformat_minor": 0
}
